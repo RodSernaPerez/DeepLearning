{
 "cells": [
  {
   "cell_type": "markdown",
   "id": "65a9d8ce-6ab8-41bb-8fed-2167afc31adb",
   "metadata": {},
   "source": [
    "Trains different algorithms for word embedding."
   ]
  },
  {
   "cell_type": "code",
   "execution_count": 1,
   "id": "a606df5b-3a18-43b6-89aa-d410e31b6eb7",
   "metadata": {},
   "outputs": [],
   "source": [
    "%load_ext autoreload\n",
    "%autoreload 2"
   ]
  },
  {
   "cell_type": "code",
   "execution_count": 2,
   "id": "every-comment",
   "metadata": {},
   "outputs": [],
   "source": [
    "from tensorflow import keras"
   ]
  },
  {
   "cell_type": "code",
   "execution_count": 3,
   "id": "behavioral-example",
   "metadata": {},
   "outputs": [],
   "source": [
    "from tensorflow.keras.preprocessing.text import Tokenizer\n",
    "from tensorflow.keras.preprocessing.text import text_to_word_sequence\n",
    "from sklearn.manifold import TSNE\n",
    "from sklearn.feature_extraction.text import CountVectorizer\n",
    "from sklearn.model_selection import train_test_split\n",
    "import matplotlib.pyplot as plt\n",
    "import random\n",
    "import numpy as np\n",
    "import scipy"
   ]
  },
  {
   "cell_type": "code",
   "execution_count": 4,
   "id": "western-secondary",
   "metadata": {},
   "outputs": [],
   "source": [
    "\n",
    "WINDOW = 3\n",
    "\n",
    "DIM_EMBEDDING = 30"
   ]
  },
  {
   "cell_type": "markdown",
   "id": "official-burlington",
   "metadata": {},
   "source": [
    "# Load data"
   ]
  },
  {
   "cell_type": "code",
   "execution_count": 5,
   "id": "great-alliance",
   "metadata": {},
   "outputs": [],
   "source": [
    "import gensim.downloader as api\n",
    "\n",
    "info = api.info() "
   ]
  },
  {
   "cell_type": "code",
   "execution_count": 6,
   "id": "swiss-example",
   "metadata": {},
   "outputs": [],
   "source": [
    "data_texts = api.load('text8')"
   ]
  },
  {
   "cell_type": "code",
   "execution_count": 7,
   "id": "mathematical-appraisal",
   "metadata": {},
   "outputs": [],
   "source": [
    "text = [t for t in data_texts][:200]"
   ]
  },
  {
   "cell_type": "code",
   "execution_count": 8,
   "id": "featured-pressing",
   "metadata": {},
   "outputs": [
    {
     "data": {
      "text/plain": [
       "200"
      ]
     },
     "execution_count": 8,
     "metadata": {},
     "output_type": "execute_result"
    }
   ],
   "source": [
    "len(text)"
   ]
  },
  {
   "cell_type": "markdown",
   "id": "sudden-round",
   "metadata": {},
   "source": [
    "# Generate Dataset\n",
    "\n",
    "Generates two different sets of data:\n",
    "\n",
    "- **words**: only one word per row\n",
    "- **contexts**:  2 * WINDOW words per row, indicating the context of the words"
   ]
  },
  {
   "cell_type": "code",
   "execution_count": 9,
   "id": "sophisticated-poison",
   "metadata": {},
   "outputs": [],
   "source": [
    "# text_as_words = text_to_word_sequence(text)\n",
    "text_as_words = text"
   ]
  },
  {
   "cell_type": "code",
   "execution_count": 10,
   "id": "diagnostic-semiconductor",
   "metadata": {},
   "outputs": [
    {
     "name": "stdout",
     "output_type": "stream",
     "text": [
      "3000  palabras\n"
     ]
    }
   ],
   "source": [
    "tok =  Tokenizer(3_000, oov_token=1)\n",
    "tok.fit_on_texts(text_as_words)\n",
    "id2word = {i: w for w, i in tok.word_index.items()}\n",
    "\n",
    "NUMBER_WORDS = tok.num_words\n",
    "print(NUMBER_WORDS, \" palabras\")"
   ]
  },
  {
   "cell_type": "code",
   "execution_count": 11,
   "id": "e5d27edb-e6d2-4ac5-b645-e86f0e6a079c",
   "metadata": {},
   "outputs": [],
   "source": [
    "id2word[0] = \"[PAD]\""
   ]
  },
  {
   "cell_type": "code",
   "execution_count": 12,
   "id": "hydraulic-submission",
   "metadata": {},
   "outputs": [],
   "source": [
    "contexts = []\n",
    "words = []\n",
    "\n",
    "for t in text_as_words:\n",
    "    for i in range(WINDOW, len(t) - WINDOW):\n",
    "        words_in_context = t[i - WINDOW: i] + t[i+ 1: i + 1 + WINDOW]\n",
    "        # tok_words_in_context = [tok.word_index[w] for w in words_in_context]\n",
    "        tok_words_in_context = tok.texts_to_sequences(words_in_context)\n",
    "        contexts.append(tok_words_in_context)\n",
    "        words.append(tok.texts_to_sequences([t[i]])[0][0])\n",
    "\n",
    "contexts = np.asarray(contexts)\n",
    "words = np.asarray(words)"
   ]
  },
  {
   "cell_type": "code",
   "execution_count": 14,
   "id": "c5e12189-fbb5-4982-b276-0f7df50b34ac",
   "metadata": {},
   "outputs": [],
   "source": [
    "contexts = np.squeeze(contexts)"
   ]
  },
  {
   "cell_type": "markdown",
   "id": "73afcbd5-d58f-40bc-9300-841208444746",
   "metadata": {},
   "source": [
    "# Models"
   ]
  },
  {
   "cell_type": "code",
   "execution_count": 15,
   "id": "24811e37-d4d6-40cb-b54b-f0552e8ceff4",
   "metadata": {},
   "outputs": [],
   "source": [
    "WORDS_FOR_TESTING = [\"king\", \"small\", \"killed\", \"fast\"]\n",
    "IDS_WORDS_FOR_TESTING = tok.texts_to_sequences(WORDS_FOR_TESTING)"
   ]
  },
  {
   "cell_type": "code",
   "execution_count": 16,
   "id": "67cf9984-8b04-4d6f-9c7f-b069ccb89855",
   "metadata": {},
   "outputs": [],
   "source": [
    "EPOCHS = 20"
   ]
  },
  {
   "cell_type": "markdown",
   "id": "2b3bff1e-afcc-4a7f-b702-874c784948fc",
   "metadata": {},
   "source": [
    "## CBOW Model\n",
    "\n",
    "Given the words, predicts the context"
   ]
  },
  {
   "cell_type": "code",
   "execution_count": 3,
   "id": "2d7331fb-d4f6-41f7-baf3-b6bcc76931d6",
   "metadata": {},
   "outputs": [],
   "source": [
    "from word2vec_models import CBOWModel"
   ]
  },
  {
   "cell_type": "code",
   "execution_count": 18,
   "id": "56f952d2-83ce-46c4-8f65-1ad0ee3614bc",
   "metadata": {},
   "outputs": [
    {
     "name": "stderr",
     "output_type": "stream",
     "text": [
      "2022-08-22 13:16:21.061621: I tensorflow/stream_executor/cuda/cuda_gpu_executor.cc:925] could not open file to read NUMA node: /sys/bus/pci/devices/0000:01:00.0/numa_node\n",
      "Your kernel may have been built without NUMA support.\n",
      "2022-08-22 13:16:21.118488: I tensorflow/stream_executor/cuda/cuda_gpu_executor.cc:925] could not open file to read NUMA node: /sys/bus/pci/devices/0000:01:00.0/numa_node\n",
      "Your kernel may have been built without NUMA support.\n",
      "2022-08-22 13:16:21.119146: I tensorflow/stream_executor/cuda/cuda_gpu_executor.cc:925] could not open file to read NUMA node: /sys/bus/pci/devices/0000:01:00.0/numa_node\n",
      "Your kernel may have been built without NUMA support.\n",
      "2022-08-22 13:16:21.120643: I tensorflow/core/platform/cpu_feature_guard.cc:151] This TensorFlow binary is optimized with oneAPI Deep Neural Network Library (oneDNN) to use the following CPU instructions in performance-critical operations:  AVX2 FMA\n",
      "To enable them in other operations, rebuild TensorFlow with the appropriate compiler flags.\n",
      "2022-08-22 13:16:21.121866: I tensorflow/stream_executor/cuda/cuda_gpu_executor.cc:925] could not open file to read NUMA node: /sys/bus/pci/devices/0000:01:00.0/numa_node\n",
      "Your kernel may have been built without NUMA support.\n",
      "2022-08-22 13:16:21.122517: I tensorflow/stream_executor/cuda/cuda_gpu_executor.cc:925] could not open file to read NUMA node: /sys/bus/pci/devices/0000:01:00.0/numa_node\n",
      "Your kernel may have been built without NUMA support.\n",
      "2022-08-22 13:16:21.123172: I tensorflow/stream_executor/cuda/cuda_gpu_executor.cc:925] could not open file to read NUMA node: /sys/bus/pci/devices/0000:01:00.0/numa_node\n",
      "Your kernel may have been built without NUMA support.\n",
      "2022-08-22 13:16:22.020841: I tensorflow/stream_executor/cuda/cuda_gpu_executor.cc:925] could not open file to read NUMA node: /sys/bus/pci/devices/0000:01:00.0/numa_node\n",
      "Your kernel may have been built without NUMA support.\n",
      "2022-08-22 13:16:22.021525: I tensorflow/stream_executor/cuda/cuda_gpu_executor.cc:925] could not open file to read NUMA node: /sys/bus/pci/devices/0000:01:00.0/numa_node\n",
      "Your kernel may have been built without NUMA support.\n",
      "2022-08-22 13:16:22.021540: I tensorflow/core/common_runtime/gpu/gpu_device.cc:1609] Could not identify NUMA node of platform GPU id 0, defaulting to 0.  Your kernel may not have been built with NUMA support.\n",
      "2022-08-22 13:16:22.022233: I tensorflow/stream_executor/cuda/cuda_gpu_executor.cc:925] could not open file to read NUMA node: /sys/bus/pci/devices/0000:01:00.0/numa_node\n",
      "Your kernel may have been built without NUMA support.\n",
      "2022-08-22 13:16:22.022726: I tensorflow/core/common_runtime/gpu/gpu_device.cc:1525] Created device /job:localhost/replica:0/task:0/device:GPU:0 with 2107 MB memory:  -> device: 0, name: NVIDIA GeForce GTX 1650, pci bus id: 0000:01:00.0, compute capability: 7.5\n"
     ]
    }
   ],
   "source": [
    "cbow_model = CBOWModel(DIM_EMBEDDING, NUMBER_WORDS)"
   ]
  },
  {
   "cell_type": "code",
   "execution_count": 19,
   "id": "8eece519-f61d-42ba-a80e-a6fe8f867684",
   "metadata": {},
   "outputs": [],
   "source": [
    "cbow_model.compile(\"adam\")"
   ]
  },
  {
   "cell_type": "code",
   "execution_count": 20,
   "id": "0abb0c9f-4cea-442b-bed1-c605ab4b7bbc",
   "metadata": {},
   "outputs": [
    {
     "name": "stdout",
     "output_type": "stream",
     "text": [
      "Epoch 1/20\n",
      "31232/31232 [==============================] - 127s 4ms/step - loss: 4.9274\n",
      "Epoch 2/20\n",
      "31232/31232 [==============================] - 134s 4ms/step - loss: 4.6327\n",
      "Epoch 3/20\n",
      "31232/31232 [==============================] - 148s 5ms/step - loss: 4.5272\n",
      "Epoch 4/20\n",
      "31232/31232 [==============================] - 157s 5ms/step - loss: 4.4705\n",
      "Epoch 5/20\n",
      "31232/31232 [==============================] - 151s 5ms/step - loss: 4.4376\n",
      "Epoch 6/20\n",
      "31232/31232 [==============================] - 152s 5ms/step - loss: 4.4175\n",
      "Epoch 7/20\n",
      "31232/31232 [==============================] - 149s 5ms/step - loss: 4.4050\n",
      "Epoch 8/20\n",
      "31232/31232 [==============================] - 147s 5ms/step - loss: 4.3965\n",
      "Epoch 9/20\n",
      "31232/31232 [==============================] - 149s 5ms/step - loss: 4.3907\n",
      "Epoch 10/20\n",
      "31232/31232 [==============================] - 150s 5ms/step - loss: 4.3867\n",
      "Epoch 11/20\n",
      "31232/31232 [==============================] - 146s 5ms/step - loss: 4.3839\n",
      "Epoch 12/20\n",
      "31232/31232 [==============================] - 147s 5ms/step - loss: 4.3818\n",
      "Epoch 13/20\n",
      "31232/31232 [==============================] - 145s 5ms/step - loss: 4.3799\n",
      "Epoch 14/20\n",
      "31232/31232 [==============================] - 144s 5ms/step - loss: 4.3787\n",
      "Epoch 15/20\n",
      "31232/31232 [==============================] - 144s 5ms/step - loss: 4.3775\n",
      "Epoch 16/20\n",
      "31232/31232 [==============================] - 142s 5ms/step - loss: 4.3768\n",
      "Epoch 17/20\n",
      "31232/31232 [==============================] - 143s 5ms/step - loss: 4.3761\n",
      "Epoch 18/20\n",
      "31232/31232 [==============================] - 143s 5ms/step - loss: 4.3755\n",
      "Epoch 19/20\n",
      "31232/31232 [==============================] - 146s 5ms/step - loss: 4.3750\n",
      "Epoch 20/20\n",
      "31232/31232 [==============================] - 143s 5ms/step - loss: 4.3747\n"
     ]
    }
   ],
   "source": [
    "history_cbow = cbow_model.fit({\"contexts\":  contexts, \"words\": words}, epochs=EPOCHS, batch_size=64, shuffle=True, verbose=1)"
   ]
  },
  {
   "cell_type": "code",
   "execution_count": 21,
   "id": "01bcb4cb-1044-4b6e-bae2-dcfde75f2acc",
   "metadata": {},
   "outputs": [
    {
     "data": {
      "image/png": "[encoded data removed]",
      "text/plain": [
       "<Figure size 432x288 with 1 Axes>"
      ]
     },
     "metadata": {
      "needs_background": "light"
     },
     "output_type": "display_data"
    }
   ],
   "source": [
    "plt.plot(history_cbow.history[\"loss\"])\n",
    "plt.grid()\n",
    "plt.title(\"loss function\");"
   ]
  },
  {
   "cell_type": "code",
   "execution_count": 22,
   "id": "ec1367a4-1656-480f-af80-c26eb6e4a836",
   "metadata": {},
   "outputs": [
    {
     "name": "stdout",
     "output_type": "stream",
     "text": [
      "\n",
      " king\n",
      "=================\n",
      "1): king, similarity: 1\n",
      "2): queen, similarity: 0.8718560934066772\n",
      "3): son, similarity: 0.8512609601020813\n",
      "4): prince, similarity: 0.8487167954444885\n",
      "5): duke, similarity: 0.8210335969924927\n",
      "6): emperor, similarity: 0.8031150698661804\n",
      "7): sultan, similarity: 0.7968526482582092\n",
      "8): pope, similarity: 0.7831507325172424\n",
      "9): alexander, similarity: 0.7752802968025208\n",
      "10): edward, similarity: 0.7632827758789062\n",
      "\n",
      " small\n",
      "=================\n",
      "1): small, similarity: 1\n",
      "2): large, similarity: 0.9073934555053711\n",
      "3): huge, similarity: 0.798449695110321\n",
      "4): smaller, similarity: 0.7567571997642517\n",
      "5): massive, similarity: 0.7564603686332703\n",
      "6): low, similarity: 0.7345193028450012\n",
      "7): wide, similarity: 0.7311301231384277\n",
      "8): narrow, similarity: 0.7188979983329773\n",
      "9): significant, similarity: 0.6985927820205688\n",
      "10): stable, similarity: 0.6866426467895508\n",
      "\n",
      " killed\n",
      "=================\n",
      "1): killed, similarity: 1\n",
      "2): defeated, similarity: 0.8481990694999695\n",
      "3): fought, similarity: 0.7616397738456726\n",
      "4): removed, similarity: 0.7561836242675781\n",
      "5): captured, similarity: 0.7493312954902649\n",
      "6): kept, similarity: 0.7321264147758484\n",
      "7): cast, similarity: 0.7217417359352112\n",
      "8): raised, similarity: 0.7061692476272583\n",
      "9): settled, similarity: 0.685560405254364\n",
      "10): succeeded, similarity: 0.6823259592056274\n",
      "\n",
      " fast\n",
      "=================\n",
      "1): fast, similarity: 1\n",
      "2): expensive, similarity: 0.6743844747543335\n",
      "3): quickly, similarity: 0.6345393657684326\n",
      "4): hard, similarity: 0.6233983635902405\n",
      "5): cable, similarity: 0.6163865923881531\n",
      "6): small, similarity: 0.6140819191932678\n",
      "7): long, similarity: 0.6059762239456177\n",
      "8): recently, similarity: 0.6039865612983704\n",
      "9): slow, similarity: 0.5898093581199646\n",
      "10): little, similarity: 0.5888951420783997\n"
     ]
    }
   ],
   "source": [
    "for id_, w in zip(IDS_WORDS_FOR_TESTING, WORDS_FOR_TESTING):\n",
    "    print(\"\\n\", w)\n",
    "    print(\"=================\")\n",
    "    best = cbow_model.get_closest_words(id_[0], n=10)\n",
    "    for i, (best_word, score) in enumerate(best):\n",
    "        print(f\"{i + 1}): {id2word[best_word]}, similarity: {score}\")\n",
    "        "
   ]
  },
  {
   "cell_type": "markdown",
   "id": "54559459-41f0-4aec-9c6a-5c60ec2277dc",
   "metadata": {},
   "source": [
    "## Skipgram Model\n",
    "\n",
    "Given the contexts, predict the words"
   ]
  },
  {
   "cell_type": "code",
   "execution_count": 25,
   "id": "d8b2e117-3c7e-40fd-beaa-b7471e4f4692",
   "metadata": {},
   "outputs": [],
   "source": [
    "from word2vec_models import SkipgramModel"
   ]
  },
  {
   "cell_type": "code",
   "execution_count": 26,
   "id": "8860cf22-27fd-4e94-af63-e26f5f645ffa",
   "metadata": {},
   "outputs": [],
   "source": [
    "skipgram_model = SkipgramModel(DIM_EMBEDDING, NUMBER_WORDS)"
   ]
  },
  {
   "cell_type": "code",
   "execution_count": 28,
   "id": "91e66353-809d-40aa-9823-10c39c9c267f",
   "metadata": {},
   "outputs": [],
   "source": [
    "skipgram_model.compile(\"adam\")"
   ]
  },
  {
   "cell_type": "code",
   "execution_count": 29,
   "id": "439e5043-7c96-4d9b-9252-0e4fba1e1189",
   "metadata": {},
   "outputs": [
    {
     "name": "stdout",
     "output_type": "stream",
     "text": [
      "Epoch 1/20\n",
      "31232/31232 [==============================] - 211s 7ms/step - loss: 0.2032\n",
      "Epoch 2/20\n",
      "31232/31232 [==============================] - 229s 7ms/step - loss: 0.1915\n",
      "Epoch 3/20\n",
      "31232/31232 [==============================] - 232s 7ms/step - loss: 0.1898\n",
      "Epoch 4/20\n",
      "31232/31232 [==============================] - 233s 7ms/step - loss: 0.1893\n",
      "Epoch 5/20\n",
      "31232/31232 [==============================] - 234s 7ms/step - loss: 0.1890\n",
      "Epoch 6/20\n",
      "31232/31232 [==============================] - 250s 8ms/step - loss: 0.1889\n",
      "Epoch 7/20\n",
      "31232/31232 [==============================] - 246s 8ms/step - loss: 0.1888\n",
      "Epoch 8/20\n",
      "31232/31232 [==============================] - 237s 8ms/step - loss: 0.1888\n",
      "Epoch 9/20\n",
      "31232/31232 [==============================] - 235s 8ms/step - loss: 0.1888\n",
      "Epoch 10/20\n",
      "31232/31232 [==============================] - 237s 8ms/step - loss: 0.1888\n",
      "Epoch 11/20\n",
      "31232/31232 [==============================] - 239s 8ms/step - loss: 0.1888\n",
      "Epoch 12/20\n",
      "31232/31232 [==============================] - 241s 8ms/step - loss: 0.1888\n",
      "Epoch 13/20\n",
      "31232/31232 [==============================] - 250s 8ms/step - loss: 0.1888\n",
      "Epoch 14/20\n",
      "31232/31232 [==============================] - 245s 8ms/step - loss: 0.1888\n",
      "Epoch 15/20\n",
      "31232/31232 [==============================] - 238s 8ms/step - loss: 0.1888\n",
      "Epoch 16/20\n",
      "31232/31232 [==============================] - 234s 7ms/step - loss: 0.1888\n",
      "Epoch 17/20\n",
      "31232/31232 [==============================] - 241s 8ms/step - loss: 0.1888\n",
      "Epoch 18/20\n",
      "31232/31232 [==============================] - 236s 8ms/step - loss: 0.1888\n",
      "Epoch 19/20\n",
      "31232/31232 [==============================] - 238s 8ms/step - loss: 0.1888\n",
      "Epoch 20/20\n",
      "31232/31232 [==============================] - 234s 7ms/step - loss: 0.1888\n"
     ]
    }
   ],
   "source": [
    "history_skipgram = skipgram_model.fit({\"contexts\":  contexts, \"words\": words}, epochs=EPOCHS, batch_size=64, shuffle=True, verbose=1)"
   ]
  },
  {
   "cell_type": "code",
   "execution_count": 30,
   "id": "abd92cd6-d014-4a8f-aed9-02050aed5874",
   "metadata": {},
   "outputs": [
    {
     "data": {
      "image/png": "[encoded data removed]",
      "text/plain": [
       "<Figure size 432x288 with 1 Axes>"
      ]
     },
     "metadata": {
      "needs_background": "light"
     },
     "output_type": "display_data"
    }
   ],
   "source": [
    "plt.plot(history_skipgram.history[\"loss\"])\n",
    "plt.grid()\n",
    "plt.title(\"loss function\");"
   ]
  },
  {
   "cell_type": "code",
   "execution_count": 31,
   "id": "5da15cb5-3be3-4650-9229-a14403b20f22",
   "metadata": {},
   "outputs": [
    {
     "name": "stdout",
     "output_type": "stream",
     "text": [
      "\n",
      " king\n",
      "=================\n",
      "1): king, similarity: 1\n",
      "2): prince, similarity: 0.8771789073944092\n",
      "3): son, similarity: 0.8686491847038269\n",
      "4): iv, similarity: 0.8648770451545715\n",
      "5): emperor, similarity: 0.8585812449455261\n",
      "6): portugal, similarity: 0.84360671043396\n",
      "7): vi, similarity: 0.819793701171875\n",
      "8): philip, similarity: 0.8153389096260071\n",
      "9): henry, similarity: 0.8078529238700867\n",
      "10): daughter, similarity: 0.8059914708137512\n",
      "\n",
      " small\n",
      "=================\n",
      "1): small, similarity: 1\n",
      "2): large, similarity: 0.9219360947608948\n",
      "3): smaller, similarity: 0.781589686870575\n",
      "4): larger, similarity: 0.7442804574966431\n",
      "5): relatively, similarity: 0.7369237542152405\n",
      "6): huge, similarity: 0.7286206483840942\n",
      "7): nearby, similarity: 0.7112388610839844\n",
      "8): coastal, similarity: 0.6969974637031555\n",
      "9): growing, similarity: 0.6742309331893921\n",
      "10): massive, similarity: 0.6733440160751343\n",
      "\n",
      " killed\n",
      "=================\n",
      "1): killed, similarity: 1\n",
      "2): captured, similarity: 0.7723318338394165\n",
      "3): sent, similarity: 0.7470306158065796\n",
      "4): met, similarity: 0.7017348408699036\n",
      "5): fled, similarity: 0.7013636827468872\n",
      "6): fought, similarity: 0.6944940090179443\n",
      "7): soldiers, similarity: 0.6930928826332092\n",
      "8): visited, similarity: 0.6878940463066101\n",
      "9): arrived, similarity: 0.6789266467094421\n",
      "10): defeat, similarity: 0.6684896349906921\n",
      "\n",
      " fast\n",
      "=================\n",
      "1): fast, similarity: 1\n",
      "2): enough, similarity: 0.7100024223327637\n",
      "3): store, similarity: 0.6963180899620056\n",
      "4): small, similarity: 0.6659982800483704\n",
      "5): relatively, similarity: 0.6616419553756714\n",
      "6): better, similarity: 0.6448602676391602\n",
      "7): fish, similarity: 0.6326767206192017\n",
      "8): huge, similarity: 0.6278835535049438\n",
      "9): growing, similarity: 0.6276451945304871\n",
      "10): expensive, similarity: 0.6230505704879761\n"
     ]
    }
   ],
   "source": [
    "for id_, w in zip(IDS_WORDS_FOR_TESTING, WORDS_FOR_TESTING):\n",
    "    print(\"\\n\", w)\n",
    "    print(\"=================\")\n",
    "    best = skipgram_model.get_closest_words(id_[0], n=10)\n",
    "    for i, (best_word, score) in enumerate(best):\n",
    "        print(f\"{i + 1}): {id2word[best_word]}, similarity: {score}\")\n",
    "        \n",
    "    "
   ]
  },
  {
   "cell_type": "markdown",
   "id": "1cf3024e-bf47-4de5-b41c-8c33e307ce65",
   "metadata": {},
   "source": [
    "## Negative Sampling Model\n",
    "\n",
    "When using both skipgram and cbow, all weights in the decoder must be updated once for each batch. The are `NUMBER_WORDS x SIZE_EMBEDDING` different weights, which typically is a huge number and makes training very slow.\n",
    "\n",
    "Using negative sampling, the operations performed are:\n",
    "\n",
    "- Compute embedding for words\n",
    "- Compute embedding for context\n",
    "- Compute cosine similarity of both\n",
    "- Predict if word and context match together\n",
    "\n",
    "In this way, only `SIZE_EMBEDDING x (2 * WINDOW_SIZE + 1)` weights need to be updated for each row.\n",
    "\n"
   ]
  },
  {
   "cell_type": "code",
   "execution_count": 32,
   "id": "f2ba52cc-5432-44ed-ab8d-be37d8a9991b",
   "metadata": {},
   "outputs": [],
   "source": [
    "from word2vec_models import NegativeSamplingModel"
   ]
  },
  {
   "cell_type": "markdown",
   "id": "f90af1d9-2ff8-4640-8d78-f981e1e7da17",
   "metadata": {},
   "source": [
    "### Generator"
   ]
  },
  {
   "cell_type": "code",
   "execution_count": 33,
   "id": "7834610a-eb3a-42e5-be73-dc5bbbe64473",
   "metadata": {},
   "outputs": [],
   "source": [
    "NEGATIVE_RATE = 0.3\n",
    "\n",
    "def data_generator(contexts, words, batch_size):\n",
    "    batch_data = {\"contexts\": [], \"words\": [], \"labels\": []}\n",
    "    \n",
    "    while True:\n",
    "        i_context = random.randrange(len(contexts))\n",
    "        if random.uniform(0, 1) < NEGATIVE_RATE:\n",
    "            i_word = random.randrange(len(words))\n",
    "            target = 0\n",
    "        else:\n",
    "            i_word = i_context\n",
    "            target = 1\n",
    "        batch_data[\"words\"].append(words[i_word])\n",
    "        batch_data[\"contexts\"].append(contexts[i_context, :])\n",
    "        batch_data[\"labels\"].append(target)\n",
    "        \n",
    "        if len(batch_data[\"labels\"]) == batch_size:\n",
    "            for k, v in batch_data.items():\n",
    "                batch_data[k] = np.asarray(v)\n",
    "                \n",
    "           \n",
    "            yield batch_data\n",
    "            batch_data = {\"contexts\": [], \"words\": [], \"labels\": []}\n",
    "            \n"
   ]
  },
  {
   "cell_type": "markdown",
   "id": "fb27740c-1f1e-4299-a20e-697419b5a5e9",
   "metadata": {},
   "source": [
    "### Model"
   ]
  },
  {
   "cell_type": "code",
   "execution_count": 40,
   "id": "40cc6f22-661d-4bb7-a045-c8d6cd50eb83",
   "metadata": {},
   "outputs": [],
   "source": [
    "negative_sampling_model = NegativeSamplingModel(DIM_EMBEDDING, NUMBER_WORDS, name=\"negative_sampling\")\n",
    "negative_sampling_model.compile(\"adam\")"
   ]
  },
  {
   "cell_type": "code",
   "execution_count": 41,
   "id": "8b77100b-1935-4afd-a7e4-6a3b72c946b8",
   "metadata": {},
   "outputs": [
    {
     "name": "stdout",
     "output_type": "stream",
     "text": [
      "Model: \"negative_sampling\"\n",
      "_________________________________________________________________\n",
      " Layer (type)                Output Shape              Param #   \n",
      "=================================================================\n",
      " embedder (Embedding)        multiple                  90030     \n",
      "                                                                 \n",
      " mean (GlobalAveragePooling1  multiple                 0         \n",
      " D)                                                              \n",
      "                                                                 \n",
      " flatten (Flatten)           multiple                  0         \n",
      "                                                                 \n",
      " dot_2 (Dot)                 multiple                  0         \n",
      "                                                                 \n",
      " dense_2 (Dense)             multiple                  2         \n",
      "                                                                 \n",
      "=================================================================\n",
      "Total params: 90,034\n",
      "Trainable params: 90,032\n",
      "Non-trainable params: 2\n",
      "_________________________________________________________________\n"
     ]
    }
   ],
   "source": [
    "inputs = {\"contexts\": contexts[:5, :], \"words\": words[:5], \"labels\": np.zeros(5)}\n",
    "predictions = negative_sampling_model(inputs)\n",
    "negative_sampling_model.summary()"
   ]
  },
  {
   "cell_type": "code",
   "execution_count": 42,
   "id": "1bbc835e-508e-4c42-85c6-bf765fee585f",
   "metadata": {},
   "outputs": [
    {
     "name": "stdout",
     "output_type": "stream",
     "text": [
      "Epoch 1/20\n",
      "1951/1951 [==============================] - 16s 8ms/step - loss: 0.5477\n",
      "Epoch 2/20\n",
      "1951/1951 [==============================] - 16s 8ms/step - loss: 0.5172\n",
      "Epoch 3/20\n",
      "1951/1951 [==============================] - 16s 8ms/step - loss: 0.5064\n",
      "Epoch 4/20\n",
      "1951/1951 [==============================] - 16s 8ms/step - loss: 0.5019\n",
      "Epoch 5/20\n",
      "1951/1951 [==============================] - 17s 9ms/step - loss: 0.4982\n",
      "Epoch 6/20\n",
      "1951/1951 [==============================] - 19s 10ms/step - loss: 0.4961\n",
      "Epoch 7/20\n",
      "1951/1951 [==============================] - 18s 9ms/step - loss: 0.4943\n",
      "Epoch 8/20\n",
      "1951/1951 [==============================] - 18s 9ms/step - loss: 0.4944\n",
      "Epoch 9/20\n",
      "1951/1951 [==============================] - 18s 9ms/step - loss: 0.4934\n",
      "Epoch 10/20\n",
      "1951/1951 [==============================] - 19s 9ms/step - loss: 0.4923\n",
      "Epoch 11/20\n",
      "1951/1951 [==============================] - 19s 10ms/step - loss: 0.4925\n",
      "Epoch 12/20\n",
      "1951/1951 [==============================] - 17s 9ms/step - loss: 0.4915\n",
      "Epoch 13/20\n",
      "1951/1951 [==============================] - 16s 8ms/step - loss: 0.4912\n",
      "Epoch 14/20\n",
      "1951/1951 [==============================] - 16s 8ms/step - loss: 0.4906\n",
      "Epoch 15/20\n",
      "1951/1951 [==============================] - 17s 9ms/step - loss: 0.4897\n",
      "Epoch 16/20\n",
      "1951/1951 [==============================] - 17s 9ms/step - loss: 0.4903\n",
      "Epoch 17/20\n",
      "1951/1951 [==============================] - 18s 9ms/step - loss: 0.4907\n",
      "Epoch 18/20\n",
      "1951/1951 [==============================] - 17s 9ms/step - loss: 0.4901\n",
      "Epoch 19/20\n",
      "1951/1951 [==============================] - 18s 9ms/step - loss: 0.4901\n",
      "Epoch 20/20\n",
      "1951/1951 [==============================] - 18s 9ms/step - loss: 0.4897\n"
     ]
    }
   ],
   "source": [
    "BATCH_SIZE = 1024\n",
    "STEPS_PER_EPOCH = len(contexts) // BATCH_SIZE\n",
    "\n",
    "hisory_negative_sampling = negative_sampling_model.fit(data_generator(contexts, words, BATCH_SIZE), epochs=EPOCHS, steps_per_epoch=STEPS_PER_EPOCH)"
   ]
  },
  {
   "cell_type": "code",
   "execution_count": 43,
   "id": "7257c728-f90c-4cf7-b9db-455704205f2b",
   "metadata": {},
   "outputs": [
    {
     "data": {
      "image/png": "[encoded data removed]",
      "text/plain": [
       "<Figure size 432x288 with 1 Axes>"
      ]
     },
     "metadata": {
      "needs_background": "light"
     },
     "output_type": "display_data"
    }
   ],
   "source": [
    "plt.plot(hisory_negative_sampling.history[\"loss\"])\n",
    "plt.grid()\n",
    "plt.title(\"loss function\");"
   ]
  },
  {
   "cell_type": "raw",
   "id": "52ba5bc5-663a-4459-a431-31e689709d45",
   "metadata": {},
   "source": [
    "for id_, w in zip(IDS_WORDS_FOR_TESTING, WORDS_FOR_TESTING):\n",
    "    print(\"\\n\", w)\n",
    "    print(\"=================\")\n",
    "    best = negative_sampling_model.get_closest_words(id_[0], n=10)\n",
    "    for i, (best_word, score) in enumerate(best):\n",
    "        print(f\"{i + 1}): {id2word[best_word]}, similarity: {score}\")\n",
    "        \n",
    "    "
   ]
  }
 ],
 "metadata": {
  "kernelspec": {
   "display_name": "kernel_icai",
   "language": "python",
   "name": "kernel_icai"
  },
  "language_info": {
   "codemirror_mode": {
    "name": "ipython",
    "version": 3
   },
   "file_extension": ".py",
   "mimetype": "text/x-python",
   "name": "python",
   "nbconvert_exporter": "python",
   "pygments_lexer": "ipython3",
   "version": "3.8.0"
  },
  "toc-autonumbering": true
 },
 "nbformat": 4,
 "nbformat_minor": 5
}
