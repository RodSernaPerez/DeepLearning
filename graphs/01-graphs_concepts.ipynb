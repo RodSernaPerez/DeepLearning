{
  "nbformat": 4,
  "nbformat_minor": 0,
  "metadata": {
    "colab": {
      "name": "graphs_concepts.ipynb",
      "provenance": []
    },
    "kernelspec": {
      "name": "python3",
      "display_name": "Python 3"
    },
    "language_info": {
      "name": "python"
    }
  },
  "cells": [
    {
      "cell_type": "markdown",
      "source": [
        "Proofs with some concepts related to graph analysis."
      ],
      "metadata": {
        "id": "1kHgJnsbPv_x"
      }
    },
    {
      "cell_type": "code",
      "source": [
        "import numpy as np\n",
        "\n",
        "import matplotlib.pyplot as plt\n",
        "import networkx as nx"
      ],
      "metadata": {
        "id": "3MZRfrc3l-Dw"
      },
      "execution_count": 3,
      "outputs": []
    },
    {
      "cell_type": "code",
      "execution_count": 4,
      "metadata": {
        "id": "fZNa2IYOluSo"
      },
      "outputs": [],
      "source": [
        "\n",
        "\n",
        "def show_graph_with_labels(adjacency_matrix, mylabels):\n",
        "    rows, cols = np.where(adjacency_matrix == 1)\n",
        "    edges = zip(rows.tolist(), cols.tolist())\n",
        "    gr = nx.Graph()\n",
        "    all_rows = range(0, adjacency_matrix.shape[0])\n",
        "    for n in all_rows:\n",
        "        gr.add_node(n)\n",
        "    gr.add_edges_from(edges)\n",
        "    nx.draw(gr, node_size=900, labels=mylabels, with_labels=True)\n",
        "    plt.show()\n",
        "\n",
        "def generate_random_graph(n_nodes, prob_union):\n",
        "  adj = np.random.rand(n_nodes, n_nodes)\n",
        "  for i in range(n_nodes):\n",
        "    for j in range(i, n_nodes):\n",
        "      if adj[i][j] > prob_union:\n",
        "        adj[i][j] = 0\n",
        "      else:\n",
        "        adj[i][j] = 1\n",
        "      adj[j][i] = adj[i][j]\n",
        "    adj[i][i] = 0\n",
        "\n",
        "  return adj"
      ]
    },
    {
      "cell_type": "code",
      "source": [
        "N = 12\n",
        "PROB_CONNECTED = 0.1\n",
        "\n",
        "labels = {i: str(i) for i in range(N)}\n",
        "adjacency_matrix = generate_random_graph(N, PROB_CONNECTED)\n",
        "show_graph_with_labels(adjacency_matrix, labels)"
      ],
      "metadata": {
        "colab": {
          "base_uri": "https://localhost:8080/",
          "height": 319
        },
        "id": "kKA2iC3TmNfQ",
        "outputId": "ebfd9e55-51be-4617-ecb6-4f1fa1979a16"
      },
      "execution_count": 16,
      "outputs": [
        {
          "output_type": "display_data",
          "data": {
            "text/plain": [
              "<Figure size 432x288 with 1 Axes>"
            ],
            "image/png": "[encoded data removed]"
          },
          "metadata": {}
        }
      ]
    },
    {
      "cell_type": "code",
      "source": [
        "adjacency_matrix"
      ],
      "metadata": {
        "colab": {
          "base_uri": "https://localhost:8080/"
        },
        "id": "INWcqCLgsCo-",
        "outputId": "102cbe97-818c-4f1a-94ef-280e85153e0b"
      },
      "execution_count": 6,
      "outputs": [
        {
          "output_type": "execute_result",
          "data": {
            "text/plain": [
              "array([[0., 1., 1., 1., 0.],\n",
              "       [1., 0., 1., 0., 0.],\n",
              "       [1., 1., 0., 0., 1.],\n",
              "       [1., 0., 0., 0., 0.],\n",
              "       [0., 0., 1., 0., 0.]])"
            ]
          },
          "metadata": {},
          "execution_count": 6
        }
      ]
    },
    {
      "cell_type": "markdown",
      "source": [
        "# Connected components"
      ],
      "metadata": {
        "id": "89au-HITOtKM"
      }
    },
    {
      "cell_type": "code",
      "source": [
        "eigenvalues_A, _ = np.linalg.eig(adjacency_matrix)\n"
      ],
      "metadata": {
        "id": "4toWphtFqFlp"
      },
      "execution_count": 21,
      "outputs": []
    },
    {
      "cell_type": "code",
      "source": [
        "laplacian = adjacency_matrix.copy()\n",
        "for i in range(N):\n",
        "  laplacian[i][i] = - sum(adjacency_matrix[i, :])\n",
        "laplacian = - laplacian"
      ],
      "metadata": {
        "id": "i55XV9WxPL3H"
      },
      "execution_count": 22,
      "outputs": []
    },
    {
      "cell_type": "code",
      "source": [
        "eigenvalues, eigenvectors = np.linalg.eig(laplacian)"
      ],
      "metadata": {
        "id": "Qf9Iel3xPRXf"
      },
      "execution_count": 23,
      "outputs": []
    },
    {
      "cell_type": "code",
      "source": [
        "plt.stem(eigenvalues)\n",
        "plt.title(\"Eigen values of the laplacian\");"
      ],
      "metadata": {
        "colab": {
          "base_uri": "https://localhost:8080/",
          "height": 336
        },
        "id": "3ajqdg9zPT1l",
        "outputId": "90a8b6dc-47ab-4e8d-8682-c2eaef388727"
      },
      "execution_count": 26,
      "outputs": [
        {
          "output_type": "stream",
          "name": "stderr",
          "text": [
            "/usr/local/lib/python3.7/dist-packages/ipykernel_launcher.py:1: UserWarning: In Matplotlib 3.3 individual lines on a stem plot will be added as a LineCollection instead of individual lines. This significantly improves the performance of a stem plot. To remove this warning and switch to the new behaviour, set the \"use_line_collection\" keyword argument to True.\n",
            "  \"\"\"Entry point for launching an IPython kernel.\n"
          ]
        },
        {
          "output_type": "display_data",
          "data": {
            "text/plain": [
              "<Figure size 432x288 with 1 Axes>"
            ],
            "image/png": "[encoded data removed]"
          },
          "metadata": {
            "needs_background": "light"
          }
        }
      ]
    },
    {
      "cell_type": "markdown",
      "source": [
        "The number of times the 0 eigenvalue appears is equal to the number of connected components in the graph."
      ],
      "metadata": {
        "id": "rfwdkr_qPbZw"
      }
    },
    {
      "cell_type": "markdown",
      "source": [
        "# Fourier transform"
      ],
      "metadata": {
        "id": "IxBJeZ7SOXke"
      }
    },
    {
      "cell_type": "code",
      "source": [
        "t = np.linspace(0, N, N)\n",
        "f = np.cos(0.5 * np.pi * t / N)"
      ],
      "metadata": {
        "id": "2VAd77Laobig"
      },
      "execution_count": 29,
      "outputs": []
    },
    {
      "cell_type": "code",
      "source": [
        "plt.plot(f)\n",
        "plt.title(\"signal in space domain\");"
      ],
      "metadata": {
        "colab": {
          "base_uri": "https://localhost:8080/",
          "height": 281
        },
        "id": "Rmn6VcH7upN6",
        "outputId": "5d8f29a4-6884-4c0f-c8d8-4d1a4ff689ca"
      },
      "execution_count": 30,
      "outputs": [
        {
          "output_type": "display_data",
          "data": {
            "text/plain": [
              "<Figure size 432x288 with 1 Axes>"
            ],
            "image/png": "[encoded data removed]"
          },
          "metadata": {
            "needs_background": "light"
          }
        }
      ]
    },
    {
      "cell_type": "code",
      "source": [
        "order_eigenvalues = np.argsort(eigenvalues)\n",
        "eigenvalues = eigenvalues[order_eigenvalues]\n",
        "eigenvectors = eigenvectors[:, order_eigenvalues]"
      ],
      "metadata": {
        "id": "IPAFZltQgQ2U"
      },
      "execution_count": 31,
      "outputs": []
    },
    {
      "cell_type": "code",
      "source": [
        "fourier_f = np.matmul(eigenvectors.T, f)\n",
        "plt.plot(fourier_f)\n",
        "plt.title(\"Signal in the Fourier domain\");"
      ],
      "metadata": {
        "colab": {
          "base_uri": "https://localhost:8080/",
          "height": 281
        },
        "id": "lL9nDVYupFTF",
        "outputId": "4720e946-e566-4f81-bb75-2e16a0b3c9af"
      },
      "execution_count": 32,
      "outputs": [
        {
          "output_type": "display_data",
          "data": {
            "text/plain": [
              "<Figure size 432x288 with 1 Axes>"
            ],
            "image/png": "[encoded data removed]"
          },
          "metadata": {
            "needs_background": "light"
          }
        }
      ]
    }
  ]
}