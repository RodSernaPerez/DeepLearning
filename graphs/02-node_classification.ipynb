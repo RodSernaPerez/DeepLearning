{
  "nbformat": 4,
  "nbformat_minor": 0,
  "metadata": {
    "colab": {
      "name": "node_classification.ipynb",
      "provenance": [],
      "toc_visible": true,
      "collapsed_sections": [
        "D9o129Crt_WP",
        "7pIjs6DYuePu",
        "MbH3ahJcu-z8"
      ]
    },
    "kernelspec": {
      "name": "python3",
      "display_name": "Python 3"
    },
    "language_info": {
      "name": "python"
    }
  },
  "cells": [
    {
      "cell_type": "markdown",
      "source": [
        "NODE CLASSIFICATION\n",
        "--------------------\n",
        "\n",
        "Predict the category of a paper given:\n",
        "- Binary indicators that it mentions a certain set of words\n",
        "- Identificators of the papers it mentions"
      ],
      "metadata": {
        "id": "_dOacvZtoM5n"
      }
    },
    {
      "cell_type": "code",
      "execution_count": null,
      "metadata": {
        "id": "LKx8QqYLnVEz"
      },
      "outputs": [],
      "source": [
        "import os\n",
        "import pandas as pd\n",
        "import numpy as np\n",
        "import networkx as nx\n",
        "import matplotlib.pyplot as plt\n",
        "import tensorflow as tf\n",
        "import seaborn as sns\n",
        "from tensorflow import keras\n",
        "from tensorflow.keras import layers\n",
        "from sklearn.preprocessing import LabelEncoder\n",
        "from sklearn.model_selection import train_test_split\n",
        "from sklearn.linear_model import LogisticRegression\n",
        "from sklearn.ensemble import RandomForestClassifier"
      ]
    },
    {
      "cell_type": "code",
      "source": [
        "zip_file = keras.utils.get_file(\n",
        "    fname=\"cora.tgz\",\n",
        "    origin=\"https://linqs-data.soe.ucsc.edu/public/lbc/cora.tgz\",\n",
        "    extract=True,\n",
        ")\n",
        "data_dir = os.path.join(os.path.dirname(zip_file), \"cora\")"
      ],
      "metadata": {
        "id": "o_6YbLj1nafh"
      },
      "execution_count": null,
      "outputs": []
    },
    {
      "cell_type": "markdown",
      "source": [
        "Loads citations"
      ],
      "metadata": {
        "id": "2H-E-5Qlo0Qg"
      }
    },
    {
      "cell_type": "code",
      "source": [
        "citations = pd.read_csv(\n",
        "    os.path.join(data_dir, \"cora.cites\"),\n",
        "    sep=\"\\t\",\n",
        "    header=None,\n",
        "    names=[\"target\", \"source\"],\n",
        ")\n",
        "print(\"Citations shape:\", citations.shape)"
      ],
      "metadata": {
        "colab": {
          "base_uri": "https://localhost:8080/"
        },
        "id": "YQcc23MJneTe",
        "outputId": "c0eab39e-6efa-4a2b-c2c2-32125b5d211e"
      },
      "execution_count": null,
      "outputs": [
        {
          "output_type": "stream",
          "name": "stdout",
          "text": [
            "Citations shape: (5429, 2)\n"
          ]
        }
      ]
    },
    {
      "cell_type": "code",
      "source": [
        "citations.head(5)"
      ],
      "metadata": {
        "colab": {
          "base_uri": "https://localhost:8080/",
          "height": 206
        },
        "id": "jQfxjSR7ng86",
        "outputId": "8df3482b-a159-45e2-aa1f-6377cc67a790"
      },
      "execution_count": null,
      "outputs": [
        {
          "output_type": "execute_result",
          "data": {
            "text/plain": [
              "   target   source\n",
              "0      35     1033\n",
              "1      35   103482\n",
              "2      35   103515\n",
              "3      35  1050679\n",
              "4      35  1103960"
            ],
            "text/html": [
              "\n",
              "  <div id=\"df-fbcd0dc2-9da6-418f-9870-0ccaa0af6ad5\">\n",
              "    <div class=\"colab-df-container\">\n",
              "      <div>\n",
              "<style scoped>\n",
              "    .dataframe tbody tr th:only-of-type {\n",
              "        vertical-align: middle;\n",
              "    }\n",
              "\n",
              "    .dataframe tbody tr th {\n",
              "        vertical-align: top;\n",
              "    }\n",
              "\n",
              "    .dataframe thead th {\n",
              "        text-align: right;\n",
              "    }\n",
              "</style>\n",
              "<table border=\"1\" class=\"dataframe\">\n",
              "  <thead>\n",
              "    <tr style=\"text-align: right;\">\n",
              "      <th></th>\n",
              "      <th>target</th>\n",
              "      <th>source</th>\n",
              "    </tr>\n",
              "  </thead>\n",
              "  <tbody>\n",
              "    <tr>\n",
              "      <th>0</th>\n",
              "      <td>35</td>\n",
              "      <td>1033</td>\n",
              "    </tr>\n",
              "    <tr>\n",
              "      <th>1</th>\n",
              "      <td>35</td>\n",
              "      <td>103482</td>\n",
              "    </tr>\n",
              "    <tr>\n",
              "      <th>2</th>\n",
              "      <td>35</td>\n",
              "      <td>103515</td>\n",
              "    </tr>\n",
              "    <tr>\n",
              "      <th>3</th>\n",
              "      <td>35</td>\n",
              "      <td>1050679</td>\n",
              "    </tr>\n",
              "    <tr>\n",
              "      <th>4</th>\n",
              "      <td>35</td>\n",
              "      <td>1103960</td>\n",
              "    </tr>\n",
              "  </tbody>\n",
              "</table>\n",
              "</div>\n",
              "      <button class=\"colab-df-convert\" onclick=\"convertToInteractive('df-fbcd0dc2-9da6-418f-9870-0ccaa0af6ad5')\"\n",
              "              title=\"Convert this dataframe to an interactive table.\"\n",
              "              style=\"display:none;\">\n",
              "        \n",
              "  <svg xmlns=\"http://www.w3.org/2000/svg\" height=\"24px\"viewBox=\"0 0 24 24\"\n",
              "       width=\"24px\">\n",
              "    <path d=\"M0 0h24v24H0V0z\" fill=\"none\"/>\n",
              "    <path d=\"M18.56 5.44l.94 2.06.94-2.06 2.06-.94-2.06-.94-.94-2.06-.94 2.06-2.06.94zm-11 1L8.5 8.5l.94-2.06 2.06-.94-2.06-.94L8.5 2.5l-.94 2.06-2.06.94zm10 10l.94 2.06.94-2.06 2.06-.94-2.06-.94-.94-2.06-.94 2.06-2.06.94z\"/><path d=\"M17.41 7.96l-1.37-1.37c-.4-.4-.92-.59-1.43-.59-.52 0-1.04.2-1.43.59L10.3 9.45l-7.72 7.72c-.78.78-.78 2.05 0 2.83L4 21.41c.39.39.9.59 1.41.59.51 0 1.02-.2 1.41-.59l7.78-7.78 2.81-2.81c.8-.78.8-2.07 0-2.86zM5.41 20L4 18.59l7.72-7.72 1.47 1.35L5.41 20z\"/>\n",
              "  </svg>\n",
              "      </button>\n",
              "      \n",
              "  <style>\n",
              "    .colab-df-container {\n",
              "      display:flex;\n",
              "      flex-wrap:wrap;\n",
              "      gap: 12px;\n",
              "    }\n",
              "\n",
              "    .colab-df-convert {\n",
              "      background-color: #E8F0FE;\n",
              "      border: none;\n",
              "      border-radius: 50%;\n",
              "      cursor: pointer;\n",
              "      display: none;\n",
              "      fill: #1967D2;\n",
              "      height: 32px;\n",
              "      padding: 0 0 0 0;\n",
              "      width: 32px;\n",
              "    }\n",
              "\n",
              "    .colab-df-convert:hover {\n",
              "      background-color: #E2EBFA;\n",
              "      box-shadow: 0px 1px 2px rgba(60, 64, 67, 0.3), 0px 1px 3px 1px rgba(60, 64, 67, 0.15);\n",
              "      fill: #174EA6;\n",
              "    }\n",
              "\n",
              "    [theme=dark] .colab-df-convert {\n",
              "      background-color: #3B4455;\n",
              "      fill: #D2E3FC;\n",
              "    }\n",
              "\n",
              "    [theme=dark] .colab-df-convert:hover {\n",
              "      background-color: #434B5C;\n",
              "      box-shadow: 0px 1px 3px 1px rgba(0, 0, 0, 0.15);\n",
              "      filter: drop-shadow(0px 1px 2px rgba(0, 0, 0, 0.3));\n",
              "      fill: #FFFFFF;\n",
              "    }\n",
              "  </style>\n",
              "\n",
              "      <script>\n",
              "        const buttonEl =\n",
              "          document.querySelector('#df-fbcd0dc2-9da6-418f-9870-0ccaa0af6ad5 button.colab-df-convert');\n",
              "        buttonEl.style.display =\n",
              "          google.colab.kernel.accessAllowed ? 'block' : 'none';\n",
              "\n",
              "        async function convertToInteractive(key) {\n",
              "          const element = document.querySelector('#df-fbcd0dc2-9da6-418f-9870-0ccaa0af6ad5');\n",
              "          const dataTable =\n",
              "            await google.colab.kernel.invokeFunction('convertToInteractive',\n",
              "                                                     [key], {});\n",
              "          if (!dataTable) return;\n",
              "\n",
              "          const docLinkHtml = 'Like what you see? Visit the ' +\n",
              "            '<a target=\"_blank\" href=https://colab.research.google.com/notebooks/data_table.ipynb>data table notebook</a>'\n",
              "            + ' to learn more about interactive tables.';\n",
              "          element.innerHTML = '';\n",
              "          dataTable['output_type'] = 'display_data';\n",
              "          await google.colab.output.renderOutput(dataTable, element);\n",
              "          const docLink = document.createElement('div');\n",
              "          docLink.innerHTML = docLinkHtml;\n",
              "          element.appendChild(docLink);\n",
              "        }\n",
              "      </script>\n",
              "    </div>\n",
              "  </div>\n",
              "  "
            ]
          },
          "metadata": {},
          "execution_count": 4
        }
      ]
    },
    {
      "cell_type": "markdown",
      "source": [
        "Loads paper feats"
      ],
      "metadata": {
        "id": "S8D7d7H8o3dr"
      }
    },
    {
      "cell_type": "code",
      "source": [
        "column_names = [\"paper_id\"] + [f\"term_{idx}\" for idx in range(1433)] + [\"subject\"]\n",
        "papers = pd.read_csv(\n",
        "    os.path.join(data_dir, \"cora.content\"), sep=\"\\t\", header=None, names=column_names,\n",
        ")\n",
        "print(\"Papers shape:\", papers.shape)"
      ],
      "metadata": {
        "colab": {
          "base_uri": "https://localhost:8080/"
        },
        "id": "YDgQ9e0unkQk",
        "outputId": "573dbde3-7081-44f3-e495-2912861a7944"
      },
      "execution_count": null,
      "outputs": [
        {
          "output_type": "stream",
          "name": "stdout",
          "text": [
            "Papers shape: (2708, 1435)\n"
          ]
        }
      ]
    },
    {
      "cell_type": "code",
      "source": [
        "papers.head(5)"
      ],
      "metadata": {
        "colab": {
          "base_uri": "https://localhost:8080/",
          "height": 300
        },
        "id": "kcHPda9Ynq7v",
        "outputId": "f2e44533-77ff-48e4-e8d3-4f3403e8be4e"
      },
      "execution_count": null,
      "outputs": [
        {
          "output_type": "execute_result",
          "data": {
            "text/plain": [
              "   paper_id  term_0  term_1  term_2  term_3  term_4  term_5  term_6  term_7  \\\n",
              "0     31336       0       0       0       0       0       0       0       0   \n",
              "1   1061127       0       0       0       0       0       0       0       0   \n",
              "2   1106406       0       0       0       0       0       0       0       0   \n",
              "3     13195       0       0       0       0       0       0       0       0   \n",
              "4     37879       0       0       0       0       0       0       0       0   \n",
              "\n",
              "   term_8  ...  term_1424  term_1425  term_1426  term_1427  term_1428  \\\n",
              "0       0  ...          0          0          1          0          0   \n",
              "1       0  ...          0          1          0          0          0   \n",
              "2       0  ...          0          0          0          0          0   \n",
              "3       0  ...          0          0          0          0          0   \n",
              "4       0  ...          0          0          0          0          0   \n",
              "\n",
              "   term_1429  term_1430  term_1431  term_1432                 subject  \n",
              "0          0          0          0          0         Neural_Networks  \n",
              "1          0          0          0          0           Rule_Learning  \n",
              "2          0          0          0          0  Reinforcement_Learning  \n",
              "3          0          0          0          0  Reinforcement_Learning  \n",
              "4          0          0          0          0   Probabilistic_Methods  \n",
              "\n",
              "[5 rows x 1435 columns]"
            ],
            "text/html": [
              "\n",
              "  <div id=\"df-594db5e6-3531-41ff-b3f6-885263427fd9\">\n",
              "    <div class=\"colab-df-container\">\n",
              "      <div>\n",
              "<style scoped>\n",
              "    .dataframe tbody tr th:only-of-type {\n",
              "        vertical-align: middle;\n",
              "    }\n",
              "\n",
              "    .dataframe tbody tr th {\n",
              "        vertical-align: top;\n",
              "    }\n",
              "\n",
              "    .dataframe thead th {\n",
              "        text-align: right;\n",
              "    }\n",
              "</style>\n",
              "<table border=\"1\" class=\"dataframe\">\n",
              "  <thead>\n",
              "    <tr style=\"text-align: right;\">\n",
              "      <th></th>\n",
              "      <th>paper_id</th>\n",
              "      <th>term_0</th>\n",
              "      <th>term_1</th>\n",
              "      <th>term_2</th>\n",
              "      <th>term_3</th>\n",
              "      <th>term_4</th>\n",
              "      <th>term_5</th>\n",
              "      <th>term_6</th>\n",
              "      <th>term_7</th>\n",
              "      <th>term_8</th>\n",
              "      <th>...</th>\n",
              "      <th>term_1424</th>\n",
              "      <th>term_1425</th>\n",
              "      <th>term_1426</th>\n",
              "      <th>term_1427</th>\n",
              "      <th>term_1428</th>\n",
              "      <th>term_1429</th>\n",
              "      <th>term_1430</th>\n",
              "      <th>term_1431</th>\n",
              "      <th>term_1432</th>\n",
              "      <th>subject</th>\n",
              "    </tr>\n",
              "  </thead>\n",
              "  <tbody>\n",
              "    <tr>\n",
              "      <th>0</th>\n",
              "      <td>31336</td>\n",
              "      <td>0</td>\n",
              "      <td>0</td>\n",
              "      <td>0</td>\n",
              "      <td>0</td>\n",
              "      <td>0</td>\n",
              "      <td>0</td>\n",
              "      <td>0</td>\n",
              "      <td>0</td>\n",
              "      <td>0</td>\n",
              "      <td>...</td>\n",
              "      <td>0</td>\n",
              "      <td>0</td>\n",
              "      <td>1</td>\n",
              "      <td>0</td>\n",
              "      <td>0</td>\n",
              "      <td>0</td>\n",
              "      <td>0</td>\n",
              "      <td>0</td>\n",
              "      <td>0</td>\n",
              "      <td>Neural_Networks</td>\n",
              "    </tr>\n",
              "    <tr>\n",
              "      <th>1</th>\n",
              "      <td>1061127</td>\n",
              "      <td>0</td>\n",
              "      <td>0</td>\n",
              "      <td>0</td>\n",
              "      <td>0</td>\n",
              "      <td>0</td>\n",
              "      <td>0</td>\n",
              "      <td>0</td>\n",
              "      <td>0</td>\n",
              "      <td>0</td>\n",
              "      <td>...</td>\n",
              "      <td>0</td>\n",
              "      <td>1</td>\n",
              "      <td>0</td>\n",
              "      <td>0</td>\n",
              "      <td>0</td>\n",
              "      <td>0</td>\n",
              "      <td>0</td>\n",
              "      <td>0</td>\n",
              "      <td>0</td>\n",
              "      <td>Rule_Learning</td>\n",
              "    </tr>\n",
              "    <tr>\n",
              "      <th>2</th>\n",
              "      <td>1106406</td>\n",
              "      <td>0</td>\n",
              "      <td>0</td>\n",
              "      <td>0</td>\n",
              "      <td>0</td>\n",
              "      <td>0</td>\n",
              "      <td>0</td>\n",
              "      <td>0</td>\n",
              "      <td>0</td>\n",
              "      <td>0</td>\n",
              "      <td>...</td>\n",
              "      <td>0</td>\n",
              "      <td>0</td>\n",
              "      <td>0</td>\n",
              "      <td>0</td>\n",
              "      <td>0</td>\n",
              "      <td>0</td>\n",
              "      <td>0</td>\n",
              "      <td>0</td>\n",
              "      <td>0</td>\n",
              "      <td>Reinforcement_Learning</td>\n",
              "    </tr>\n",
              "    <tr>\n",
              "      <th>3</th>\n",
              "      <td>13195</td>\n",
              "      <td>0</td>\n",
              "      <td>0</td>\n",
              "      <td>0</td>\n",
              "      <td>0</td>\n",
              "      <td>0</td>\n",
              "      <td>0</td>\n",
              "      <td>0</td>\n",
              "      <td>0</td>\n",
              "      <td>0</td>\n",
              "      <td>...</td>\n",
              "      <td>0</td>\n",
              "      <td>0</td>\n",
              "      <td>0</td>\n",
              "      <td>0</td>\n",
              "      <td>0</td>\n",
              "      <td>0</td>\n",
              "      <td>0</td>\n",
              "      <td>0</td>\n",
              "      <td>0</td>\n",
              "      <td>Reinforcement_Learning</td>\n",
              "    </tr>\n",
              "    <tr>\n",
              "      <th>4</th>\n",
              "      <td>37879</td>\n",
              "      <td>0</td>\n",
              "      <td>0</td>\n",
              "      <td>0</td>\n",
              "      <td>0</td>\n",
              "      <td>0</td>\n",
              "      <td>0</td>\n",
              "      <td>0</td>\n",
              "      <td>0</td>\n",
              "      <td>0</td>\n",
              "      <td>...</td>\n",
              "      <td>0</td>\n",
              "      <td>0</td>\n",
              "      <td>0</td>\n",
              "      <td>0</td>\n",
              "      <td>0</td>\n",
              "      <td>0</td>\n",
              "      <td>0</td>\n",
              "      <td>0</td>\n",
              "      <td>0</td>\n",
              "      <td>Probabilistic_Methods</td>\n",
              "    </tr>\n",
              "  </tbody>\n",
              "</table>\n",
              "<p>5 rows × 1435 columns</p>\n",
              "</div>\n",
              "      <button class=\"colab-df-convert\" onclick=\"convertToInteractive('df-594db5e6-3531-41ff-b3f6-885263427fd9')\"\n",
              "              title=\"Convert this dataframe to an interactive table.\"\n",
              "              style=\"display:none;\">\n",
              "        \n",
              "  <svg xmlns=\"http://www.w3.org/2000/svg\" height=\"24px\"viewBox=\"0 0 24 24\"\n",
              "       width=\"24px\">\n",
              "    <path d=\"M0 0h24v24H0V0z\" fill=\"none\"/>\n",
              "    <path d=\"M18.56 5.44l.94 2.06.94-2.06 2.06-.94-2.06-.94-.94-2.06-.94 2.06-2.06.94zm-11 1L8.5 8.5l.94-2.06 2.06-.94-2.06-.94L8.5 2.5l-.94 2.06-2.06.94zm10 10l.94 2.06.94-2.06 2.06-.94-2.06-.94-.94-2.06-.94 2.06-2.06.94z\"/><path d=\"M17.41 7.96l-1.37-1.37c-.4-.4-.92-.59-1.43-.59-.52 0-1.04.2-1.43.59L10.3 9.45l-7.72 7.72c-.78.78-.78 2.05 0 2.83L4 21.41c.39.39.9.59 1.41.59.51 0 1.02-.2 1.41-.59l7.78-7.78 2.81-2.81c.8-.78.8-2.07 0-2.86zM5.41 20L4 18.59l7.72-7.72 1.47 1.35L5.41 20z\"/>\n",
              "  </svg>\n",
              "      </button>\n",
              "      \n",
              "  <style>\n",
              "    .colab-df-container {\n",
              "      display:flex;\n",
              "      flex-wrap:wrap;\n",
              "      gap: 12px;\n",
              "    }\n",
              "\n",
              "    .colab-df-convert {\n",
              "      background-color: #E8F0FE;\n",
              "      border: none;\n",
              "      border-radius: 50%;\n",
              "      cursor: pointer;\n",
              "      display: none;\n",
              "      fill: #1967D2;\n",
              "      height: 32px;\n",
              "      padding: 0 0 0 0;\n",
              "      width: 32px;\n",
              "    }\n",
              "\n",
              "    .colab-df-convert:hover {\n",
              "      background-color: #E2EBFA;\n",
              "      box-shadow: 0px 1px 2px rgba(60, 64, 67, 0.3), 0px 1px 3px 1px rgba(60, 64, 67, 0.15);\n",
              "      fill: #174EA6;\n",
              "    }\n",
              "\n",
              "    [theme=dark] .colab-df-convert {\n",
              "      background-color: #3B4455;\n",
              "      fill: #D2E3FC;\n",
              "    }\n",
              "\n",
              "    [theme=dark] .colab-df-convert:hover {\n",
              "      background-color: #434B5C;\n",
              "      box-shadow: 0px 1px 3px 1px rgba(0, 0, 0, 0.15);\n",
              "      filter: drop-shadow(0px 1px 2px rgba(0, 0, 0, 0.3));\n",
              "      fill: #FFFFFF;\n",
              "    }\n",
              "  </style>\n",
              "\n",
              "      <script>\n",
              "        const buttonEl =\n",
              "          document.querySelector('#df-594db5e6-3531-41ff-b3f6-885263427fd9 button.colab-df-convert');\n",
              "        buttonEl.style.display =\n",
              "          google.colab.kernel.accessAllowed ? 'block' : 'none';\n",
              "\n",
              "        async function convertToInteractive(key) {\n",
              "          const element = document.querySelector('#df-594db5e6-3531-41ff-b3f6-885263427fd9');\n",
              "          const dataTable =\n",
              "            await google.colab.kernel.invokeFunction('convertToInteractive',\n",
              "                                                     [key], {});\n",
              "          if (!dataTable) return;\n",
              "\n",
              "          const docLinkHtml = 'Like what you see? Visit the ' +\n",
              "            '<a target=\"_blank\" href=https://colab.research.google.com/notebooks/data_table.ipynb>data table notebook</a>'\n",
              "            + ' to learn more about interactive tables.';\n",
              "          element.innerHTML = '';\n",
              "          dataTable['output_type'] = 'display_data';\n",
              "          await google.colab.output.renderOutput(dataTable, element);\n",
              "          const docLink = document.createElement('div');\n",
              "          docLink.innerHTML = docLinkHtml;\n",
              "          element.appendChild(docLink);\n",
              "        }\n",
              "      </script>\n",
              "    </div>\n",
              "  </div>\n",
              "  "
            ]
          },
          "metadata": {},
          "execution_count": 6
        }
      ]
    },
    {
      "cell_type": "code",
      "source": [
        "plt.figure(figsize=(20, 10))\n",
        "sns.histplot(papers[\"subject\"]);"
      ],
      "metadata": {
        "colab": {
          "base_uri": "https://localhost:8080/",
          "height": 606
        },
        "id": "MYUnaGWvnv30",
        "outputId": "5dcaf7b9-3933-4c02-a02d-0da12e62cbe4"
      },
      "execution_count": null,
      "outputs": [
        {
          "output_type": "display_data",
          "data": {
            "text/plain": [
              "<Figure size 1440x720 with 1 Axes>"
            ],
            "image/png": "[encoded data removed]"
          },
          "metadata": {
            "needs_background": "light"
          }
        }
      ]
    },
    {
      "cell_type": "code",
      "source": [
        "label_encoder_targets = LabelEncoder()\n",
        "papers[\"subject\"] = label_encoder_targets.fit_transform(papers[\"subject\"])\n",
        "\n",
        "label_encoder_papers = LabelEncoder()\n",
        "papers[\"paper_id\"] = label_encoder_papers.fit_transform(papers[\"paper_id\"])\n",
        "\n",
        "citations[\"source\"] = label_encoder_papers.transform(citations[\"source\"])\n",
        "citations[\"target\"] = label_encoder_papers.transform(citations[\"target\"])\n"
      ],
      "metadata": {
        "id": "hBKHuHy6qNKi"
      },
      "execution_count": null,
      "outputs": []
    },
    {
      "cell_type": "markdown",
      "source": [
        "# Analysis"
      ],
      "metadata": {
        "id": "THxmmarmCAZp"
      }
    },
    {
      "cell_type": "code",
      "source": [
        "n_labels = len(label_encoder_targets.classes_)\n",
        "feature_names = [f for f in papers.columns if \"term_\" in f]\n",
        "n_nodes = len(papers)"
      ],
      "metadata": {
        "id": "C58eL3bdxET8"
      },
      "execution_count": null,
      "outputs": []
    },
    {
      "cell_type": "code",
      "source": [
        "plt.figure(figsize=(10, 10))\n",
        "colors = papers[\"subject\"].tolist()\n",
        "cora_graph = nx.from_pandas_edgelist(citations.sample(n=1500))\n",
        "subjects = list(papers[papers[\"paper_id\"].isin(list(cora_graph.nodes))][\"subject\"])\n",
        "nx.draw_spring(cora_graph, node_size=15, node_color=subjects)"
      ],
      "metadata": {
        "colab": {
          "base_uri": "https://localhost:8080/",
          "height": 751
        },
        "id": "3CGsqwvypI36",
        "outputId": "c5180fd7-1fb0-4543-aec4-e4c46b7be351"
      },
      "execution_count": null,
      "outputs": [
        {
          "output_type": "display_data",
          "data": {
            "text/plain": [
              "<Figure size 720x720 with 1 Axes>"
            ],
            "image/png": "[encoded data removed]"
          },
          "metadata": {}
        }
      ]
    },
    {
      "cell_type": "code",
      "source": [
        "from scipy.sparse import coo_matrix\n",
        "all_edges = np.concatenate([citations, citations], axis=0)\n",
        "adjacency_matrix = coo_matrix((np.ones(len(all_edges)), (all_edges[:,0], all_edges[:, 1])), dtype=np.int8,\n",
        "                              shape=(n_nodes, n_nodes))\n",
        "\n",
        "laplacian = adjacency_matrix.copy()\n",
        "diag = - np.asarray(laplacian.sum(axis=0)[0].tolist())[0]\n",
        "laplacian.setdiag(diag)"
      ],
      "metadata": {
        "id": "zOAuCyWWCHBD"
      },
      "execution_count": null,
      "outputs": []
    },
    {
      "cell_type": "code",
      "source": [
        "values, _ = np.linalg.eig(laplacian.toarray())"
      ],
      "metadata": {
        "id": "SzbsEpYBC4sN"
      },
      "execution_count": null,
      "outputs": []
    },
    {
      "cell_type": "code",
      "source": [
        "len([v for v in values if v == 0])"
      ],
      "metadata": {
        "colab": {
          "base_uri": "https://localhost:8080/"
        },
        "id": "080P4S23EnNt",
        "outputId": "9ead21fe-65ea-485e-c16a-e52e23dd3862"
      },
      "execution_count": null,
      "outputs": [
        {
          "output_type": "execute_result",
          "data": {
            "text/plain": [
              "486"
            ]
          },
          "metadata": {},
          "execution_count": 108
        }
      ]
    },
    {
      "cell_type": "markdown",
      "source": [
        "# Data Preparation"
      ],
      "metadata": {
        "id": "KE6WSGWiCDsN"
      }
    },
    {
      "cell_type": "markdown",
      "source": [
        "Split into train and test"
      ],
      "metadata": {
        "id": "sNQE-diLsZV6"
      }
    },
    {
      "cell_type": "code",
      "source": [
        "papers_train, papers_test = train_test_split(papers[\"paper_id\"], stratify=papers[\"subject\"])"
      ],
      "metadata": {
        "id": "LDVVge7kpXMI"
      },
      "execution_count": null,
      "outputs": []
    },
    {
      "cell_type": "code",
      "source": [
        "print(\"Samples in training: \", len(papers_train))\n",
        "print(\"Samples in test: \", len(papers_test))"
      ],
      "metadata": {
        "colab": {
          "base_uri": "https://localhost:8080/"
        },
        "id": "O3zMc-ybtFXV",
        "outputId": "f6eedccf-7f6e-488c-f780-ab5f625731cb"
      },
      "execution_count": null,
      "outputs": [
        {
          "output_type": "stream",
          "name": "stdout",
          "text": [
            "Samples in training:  2031\n",
            "Samples in test:  677\n"
          ]
        }
      ]
    },
    {
      "cell_type": "markdown",
      "source": [
        "# Baseline models (no graphs)\n",
        "\n",
        "Predictions only based on the words presence"
      ],
      "metadata": {
        "id": "iiXlzgTJszon"
      }
    },
    {
      "cell_type": "code",
      "source": [
        "dict_results = {}"
      ],
      "metadata": {
        "id": "yMV2hKSJp_vq"
      },
      "execution_count": null,
      "outputs": []
    },
    {
      "cell_type": "code",
      "source": [
        "data_train = papers.merge(papers_train, on=\"paper_id\", how=\"inner\")\n",
        "data_test = papers.merge(papers_test, on=\"paper_id\", how=\"inner\")"
      ],
      "metadata": {
        "id": "SNA_hXvLsoPW"
      },
      "execution_count": null,
      "outputs": []
    },
    {
      "cell_type": "code",
      "source": [
        "X_train = data_train.drop(columns=[\"paper_id\", \"subject\"])\n",
        "X_test = data_test.drop(columns=[\"paper_id\", \"subject\"])\n",
        "y_train = data_train[\"subject\"]\n",
        "y_test = data_test[\"subject\"]"
      ],
      "metadata": {
        "id": "OgO0M-f-tYTO"
      },
      "execution_count": null,
      "outputs": []
    },
    {
      "cell_type": "markdown",
      "source": [
        "## Logistic Regression"
      ],
      "metadata": {
        "id": "D9o129Crt_WP"
      }
    },
    {
      "cell_type": "code",
      "source": [
        "lr = LogisticRegression().fit(X_train, y_train)\n",
        "score =  lr.score(X_test, y_test)\n",
        "dict_results[\"linear baseline\"] = score\n",
        "print(\"Accuracy linear model: \", score)"
      ],
      "metadata": {
        "colab": {
          "base_uri": "https://localhost:8080/"
        },
        "id": "tEpQEqXZtCC0",
        "outputId": "62ae3de4-a09f-4ebe-f2a4-484635ed9ca2"
      },
      "execution_count": null,
      "outputs": [
        {
          "output_type": "stream",
          "name": "stdout",
          "text": [
            "Accuracy linear model:  0.7518463810930576\n"
          ]
        }
      ]
    },
    {
      "cell_type": "markdown",
      "source": [
        "## Random forest"
      ],
      "metadata": {
        "id": "7pIjs6DYuePu"
      }
    },
    {
      "cell_type": "code",
      "source": [
        "rf = RandomForestClassifier().fit(X_train, y_train)\n",
        "\n",
        "score = rf.score(X_test, y_test)\n",
        "dict_results[\"random forest\"] = score\n",
        "print(\"Accuracy random forest model: \", score)"
      ],
      "metadata": {
        "colab": {
          "base_uri": "https://localhost:8080/"
        },
        "id": "j1IDFmnptPZc",
        "outputId": "a69fe978-f601-40af-8390-c2879b4a9ccd"
      },
      "execution_count": null,
      "outputs": [
        {
          "output_type": "stream",
          "name": "stdout",
          "text": [
            "Accuracy random forest model:  0.7621861152141802\n"
          ]
        }
      ]
    },
    {
      "cell_type": "markdown",
      "source": [
        "## Neural Network"
      ],
      "metadata": {
        "id": "MbH3ahJcu-z8"
      }
    },
    {
      "cell_type": "code",
      "source": [
        "hidden_units = [32, 32]\n",
        "learning_rate = 0.01\n",
        "dropout_rate = 0.5\n",
        "num_epochs = 300\n",
        "batch_size = 256"
      ],
      "metadata": {
        "id": "QuirC-a8uv6o"
      },
      "execution_count": null,
      "outputs": []
    },
    {
      "cell_type": "code",
      "source": [
        "def create_fnn_layer():\n",
        "  layers_nn = []\n",
        "  for units in hidden_units:\n",
        "      layers_nn.append(layers.BatchNormalization())\n",
        "      layers_nn.append(layers.Dropout(dropout_rate))\n",
        "      layers_nn.append(layers.Dense(units, activation=tf.nn.gelu))\n",
        "\n",
        "  fnn_layer = keras.models.Sequential(layers_nn)\n",
        "  return fnn_layer\n",
        "\n",
        "\n",
        "inputs = layers.Input(shape=(X_train.shape[1],), name=\"input_features\")\n",
        "x = create_fnn_layer()(inputs)\n",
        "for block_idx in range(4):\n",
        "    # Create an FFN block.\n",
        "    x1 = create_fnn_layer()(x)\n",
        "    # Add skip connection.\n",
        "    x = layers.Add(name=f\"skip_connection{block_idx + 2}\")([x, x1])\n",
        "\n",
        "# Compute logits.\n",
        "logits = layers.Dense(n_labels, name=\"logits\")(x)\n",
        "\n",
        "nn_model = keras.models.Model(inputs, x)\n",
        "\n",
        "# Compile the model.\n",
        "nn_model.compile(\n",
        "    optimizer=keras.optimizers.Adam(learning_rate),\n",
        "    loss=keras.losses.SparseCategoricalCrossentropy(from_logits=True),\n",
        "    metrics=[keras.metrics.SparseCategoricalAccuracy(name=\"acc\")],\n",
        ")\n",
        "\n",
        "# Create an early stopping callback.\n",
        "early_stopping = keras.callbacks.EarlyStopping(\n",
        "    monitor=\"val_acc\", patience=50, restore_best_weights=True\n",
        ")\n",
        "nn_model.summary()\n",
        "# Fit the model.\n",
        "history = nn_model.fit(\n",
        "    x=X_train,\n",
        "    y=y_train,\n",
        "    epochs=num_epochs,\n",
        "    batch_size=batch_size,\n",
        "    validation_split=0.15,\n",
        "    callbacks=[early_stopping],\n",
        "    verbose=0\n",
        ")\n"
      ],
      "metadata": {
        "colab": {
          "base_uri": "https://localhost:8080/"
        },
        "id": "lsWnCzd0vA9J",
        "outputId": "bd81e4a2-0db7-48c0-96d7-bfd5aebf65d7"
      },
      "execution_count": null,
      "outputs": [
        {
          "output_type": "stream",
          "name": "stdout",
          "text": [
            "Model: \"model_1\"\n",
            "__________________________________________________________________________________________________\n",
            " Layer (type)                   Output Shape         Param #     Connected to                     \n",
            "==================================================================================================\n",
            " input_features (InputLayer)    [(None, 1433)]       0           []                               \n",
            "                                                                                                  \n",
            " sequential_47 (Sequential)     (None, 32)           52804       ['input_features[0][0]']         \n",
            "                                                                                                  \n",
            " sequential_48 (Sequential)     (None, 32)           2368        ['sequential_47[0][0]']          \n",
            "                                                                                                  \n",
            " skip_connection2 (Add)         (None, 32)           0           ['sequential_47[0][0]',          \n",
            "                                                                  'sequential_48[0][0]']          \n",
            "                                                                                                  \n",
            " sequential_49 (Sequential)     (None, 32)           2368        ['skip_connection2[0][0]']       \n",
            "                                                                                                  \n",
            " skip_connection3 (Add)         (None, 32)           0           ['skip_connection2[0][0]',       \n",
            "                                                                  'sequential_49[0][0]']          \n",
            "                                                                                                  \n",
            " sequential_50 (Sequential)     (None, 32)           2368        ['skip_connection3[0][0]']       \n",
            "                                                                                                  \n",
            " skip_connection4 (Add)         (None, 32)           0           ['skip_connection3[0][0]',       \n",
            "                                                                  'sequential_50[0][0]']          \n",
            "                                                                                                  \n",
            " sequential_51 (Sequential)     (None, 32)           2368        ['skip_connection4[0][0]']       \n",
            "                                                                                                  \n",
            " skip_connection5 (Add)         (None, 32)           0           ['skip_connection4[0][0]',       \n",
            "                                                                  'sequential_51[0][0]']          \n",
            "                                                                                                  \n",
            "==================================================================================================\n",
            "Total params: 62,276\n",
            "Trainable params: 58,834\n",
            "Non-trainable params: 3,442\n",
            "__________________________________________________________________________________________________\n"
          ]
        }
      ]
    },
    {
      "cell_type": "code",
      "source": [
        "metrics = [k for k in history.history.keys() if \"val_\" not in k]\n",
        "fig, axs = plt.subplots(1, len(metrics))\n",
        "for m, ax in zip(metrics, axs.flatten()):\n",
        "  ax.plot(history.history[m])\n",
        "  ax.plot(history.history[\"val_\" + m])\n",
        "  ax.set_title(m)"
      ],
      "metadata": {
        "colab": {
          "base_uri": "https://localhost:8080/",
          "height": 281
        },
        "id": "4JT6YeX8vmiK",
        "outputId": "32967a93-12c7-4e5b-9c09-b75c51560445"
      },
      "execution_count": null,
      "outputs": [
        {
          "output_type": "display_data",
          "data": {
            "text/plain": [
              "<Figure size 432x288 with 2 Axes>"
            ],
            "image/png": "[encoded data removed]"
          },
          "metadata": {
            "needs_background": "light"
          }
        }
      ]
    },
    {
      "cell_type": "code",
      "source": [
        "score = nn_model.evaluate(X_test, y_test)[1]\n",
        "dict_results[\"baseline neural network\"] = score\n",
        "print(\"Accuracy neural network model: \", score)"
      ],
      "metadata": {
        "colab": {
          "base_uri": "https://localhost:8080/"
        },
        "id": "LNMzvzSGqTOp",
        "outputId": "8b58e29f-7ca8-48ba-f4b8-420c65c87927"
      },
      "execution_count": null,
      "outputs": [
        {
          "output_type": "stream",
          "name": "stdout",
          "text": [
            "22/22 [==============================] - 0s 6ms/step - loss: 0.6832 - acc: 0.7710\n",
            "Accuracy neural network model:  0.7710487246513367\n"
          ]
        }
      ]
    },
    {
      "cell_type": "markdown",
      "source": [
        "# Graph Neural Network"
      ],
      "metadata": {
        "id": "lo3hvM3oysN6"
      }
    },
    {
      "cell_type": "code",
      "source": [
        "hidden_units = [32, 32]\n",
        "learning_rate = 0.01\n",
        "dropout_rate = 0.5\n",
        "num_epochs = 300\n",
        "batch_size = 256"
      ],
      "metadata": {
        "id": "NPZicGGgp3VD"
      },
      "execution_count": null,
      "outputs": []
    },
    {
      "cell_type": "code",
      "source": [
        "# Create an edges array (sparse adjacency matrix) of shape [2, num_edges].\n",
        "edges_positive = citations[[\"source\", \"target\"]].to_numpy().T\n",
        "edges_negative = citations[[\"target\", \"source\"]].to_numpy().T\n",
        "\n",
        "edges = np.concatenate([edges_positive, edges_negative], axis=1)\n",
        "\n",
        "\n",
        "# Create an edge weights array of ones.\n",
        "edge_weights_positive = tf.ones(shape=edges_positive.shape[1])\n",
        "edge_weights_negative = tf.zeros(shape=edges_negative.shape[1])\n",
        "\n",
        "edges_types = np.concatenate([edge_weights_positive, edge_weights_negative], axis=0)\n",
        "\n",
        "\n",
        "# Create a node features array of shape [num_nodes, num_features].\n",
        "node_features = tf.cast(\n",
        "    papers.sort_values(\"paper_id\")[feature_names].to_numpy(), dtype=tf.dtypes.float32\n",
        ")\n",
        "# Create graph info tuple with node_features, edges, and edge_weights.\n",
        "graph_info = (node_features, edges, edges_types)\n",
        "\n",
        "print(\"Edges positive shape:\", edges_positive.shape)\n",
        "print(\"Edges negative shape:\", edges_negative.shape)\n",
        "print(\"Edges shape:\", edges.shape)\n",
        "\n",
        "print(\"Edges type shape:\", edges_types.shape)\n",
        "print(\"Nodes shape:\", node_features.shape)"
      ],
      "metadata": {
        "colab": {
          "base_uri": "https://localhost:8080/"
        },
        "id": "Pq8ALnOnytz4",
        "outputId": "e2fc6e27-98e3-4cf8-f833-8b7472930d91"
      },
      "execution_count": null,
      "outputs": [
        {
          "output_type": "stream",
          "name": "stdout",
          "text": [
            "Edges positive shape: (2, 5429)\n",
            "Edges negative shape: (2, 5429)\n",
            "Edges shape: (2, 10858)\n",
            "Edges type shape: (10858,)\n",
            "Nodes shape: (2708, 1433)\n"
          ]
        }
      ]
    },
    {
      "cell_type": "markdown",
      "source": [
        "Steps:\n",
        "\n",
        "\n",
        "- **Prepare**: The input node representations are processed using a FFN to produce a message. You can simplify the processing by only applying linear transformation to the representations.\n",
        "- **Aggregate**: The messages of the neighbours of each node are aggregated with respect to the edge_weights using a permutation invariant pooling operation, such as sum, mean, and max, to prepare a single aggregated message for each node. See, for example, tf.math.unsorted_segment_sum APIs used to aggregate neighbour messages.\n",
        "- **Update**: The node_repesentations and aggregated_messages—both of shape [num_nodes, representation_dim]— are combined and processed to produce the new state of the node representations (node embeddings). If combination_type is gru, the node_repesentations and aggregated_messages are stacked to create a sequence, then processed by a GRU layer. Otherwise, the node_repesentations and aggregated_messages are added or concatenated, then processed using a FFN."
      ],
      "metadata": {
        "id": "oJIPmUy8z_mt"
      }
    },
    {
      "cell_type": "code",
      "source": [
        "class GraphConvLayer(layers.Layer):\n",
        "    def __init__(\n",
        "        self,\n",
        "        hidden_units,\n",
        "        dropout_rate=0.2,\n",
        "        aggregation_type=\"mean\",\n",
        "        combination_type=\"concat\",\n",
        "        normalize=False,\n",
        "        *args,\n",
        "        **kwargs,\n",
        "    ):\n",
        "        super(GraphConvLayer, self).__init__(*args, **kwargs)\n",
        "\n",
        "        self.aggregation_type = aggregation_type\n",
        "        self.combination_type = combination_type\n",
        "        self.normalize = normalize\n",
        "\n",
        "        self.ffn_prepare = create_fnn_layer()\n",
        "\n",
        "        self.type_edge_embedding = keras.layers.Embedding(input_dim=2,\n",
        "                                                          output_dim=1)\n",
        "\n",
        "        if self.combination_type == \"gated\":\n",
        "            self.update_fn = layers.GRU(\n",
        "                units=hidden_units,\n",
        "                activation=\"tanh\",\n",
        "                recurrent_activation=\"sigmoid\",\n",
        "                dropout=dropout_rate,\n",
        "                return_state=True,\n",
        "                recurrent_dropout=dropout_rate,\n",
        "            )\n",
        "        else:\n",
        "            self.update_fn = create_fnn_layer()\n",
        "\n",
        "    def prepare(self, node_repesentations, weights=None):\n",
        "        # node_repesentations shape is [num_edges, embedding_dim].\n",
        "        messages = self.ffn_prepare(node_repesentations)\n",
        "        if weights is not None:\n",
        "            weights = weights if len(weights.shape) == 2 else tf.expand_dims(weights, -1)\n",
        "            messages = messages * weights\n",
        "        return messages\n",
        "\n",
        "    def aggregate(self, node_indices, neighbour_messages):\n",
        "        # node_indices shape is [num_edges].\n",
        "        # neighbour_messages shape: [num_edges, representation_dim].\n",
        "        num_nodes = tf.math.reduce_max(node_indices) + 1\n",
        "        if self.aggregation_type == \"sum\":\n",
        "            aggregated_message = tf.math.unsorted_segment_sum(\n",
        "                neighbour_messages, node_indices, num_segments=num_nodes\n",
        "            )\n",
        "        elif self.aggregation_type == \"mean\":\n",
        "            aggregated_message = tf.math.unsorted_segment_mean(\n",
        "                neighbour_messages, node_indices, num_segments=num_nodes\n",
        "            )\n",
        "        elif self.aggregation_type == \"max\":\n",
        "            aggregated_message = tf.math.unsorted_segment_max(\n",
        "                neighbour_messages, node_indices, num_segments=num_nodes\n",
        "            )\n",
        "        else:\n",
        "            raise ValueError(f\"Invalid aggregation type: {self.aggregation_type}.\")\n",
        "\n",
        "        return aggregated_message\n",
        "\n",
        "    def update(self, node_repesentations, aggregated_messages):\n",
        "        # node_repesentations shape is [num_nodes, representation_dim].\n",
        "        # aggregated_messages shape is [num_nodes, representation_dim].\n",
        "        if self.combination_type == \"gru\":\n",
        "            # Create a sequence of two elements for the GRU layer.\n",
        "            h = tf.stack([node_repesentations, aggregated_messages], axis=1)\n",
        "        elif self.combination_type == \"concat\":\n",
        "            # Concatenate the node_repesentations and aggregated_messages.\n",
        "            h = tf.concat([node_repesentations, aggregated_messages], axis=1)\n",
        "        elif self.combination_type == \"add\":\n",
        "            # Add node_repesentations and aggregated_messages.\n",
        "            h = node_repesentations + aggregated_messages\n",
        "        else:\n",
        "            raise ValueError(f\"Invalid combination type: {self.combination_type}.\")\n",
        "\n",
        "        # Apply the processing function.\n",
        "        node_embeddings = self.update_fn(h)\n",
        "        if self.combination_type == \"gru\":\n",
        "            node_embeddings = tf.unstack(node_embeddings, axis=1)[-1]\n",
        "\n",
        "        if self.normalize:\n",
        "            node_embeddings = tf.nn.l2_normalize(node_embeddings, axis=-1)\n",
        "        return node_embeddings\n",
        "\n",
        "    def call(self, inputs):\n",
        "        \"\"\"Process the inputs to produce the node_embeddings.\n",
        "\n",
        "        inputs: a tuple of three elements: node_repesentations, edges, edge_weights.\n",
        "        Returns: node_embeddings of shape [num_nodes, representation_dim].\n",
        "        \"\"\"\n",
        "\n",
        "        node_repesentations, edges, edges_types = inputs\n",
        "        edge_weights = self.type_edge_embedding(edges_types)\n",
        "        edge_weights = keras.layers.Flatten()(edge_weights)\n",
        "        \n",
        "        # Get node_indices (source) and neighbour_indices (target) from edges.\n",
        "        node_indices, neighbour_indices = edges[0], edges[1]\n",
        "        # neighbour_repesentations shape is [num_edges, representation_dim].\n",
        "        neighbour_repesentations = tf.gather(node_repesentations, neighbour_indices)\n",
        "        \n",
        "        # Prepare the messages of the neighbours.\n",
        "        neighbour_messages = self.prepare(neighbour_repesentations, edge_weights)\n",
        "        \n",
        "        # Aggregate the neighbour messages.\n",
        "        aggregated_messages = self.aggregate(node_indices, neighbour_messages)\n",
        "        \n",
        "        # Update the node embedding with the neighbour messages.\n",
        "        return self.update(node_repesentations, aggregated_messages)"
      ],
      "metadata": {
        "id": "_gInJw9Iyuj1"
      },
      "execution_count": null,
      "outputs": []
    },
    {
      "cell_type": "code",
      "source": [
        "class GNNNodeClassifier(tf.keras.Model):\n",
        "    def __init__(\n",
        "        self,\n",
        "        graph_info,\n",
        "        num_classes,\n",
        "        hidden_units,\n",
        "        aggregation_type=\"sum\",\n",
        "        combination_type=\"concat\",\n",
        "        dropout_rate=0.2,\n",
        "        normalize=True,\n",
        "        *args,\n",
        "        **kwargs,\n",
        "    ):\n",
        "        super(GNNNodeClassifier, self).__init__(*args, **kwargs)\n",
        "\n",
        "        # Unpack graph_info to three elements: node_features, edges, and edge_weight.\n",
        "        node_features, edges, edge_weights = graph_info\n",
        "        self.node_features = node_features\n",
        "        self.edges = edges\n",
        "        self.edge_weights = edge_weights\n",
        "        # Set edge_weights to ones if not provided.\n",
        "        if self.edge_weights is None:\n",
        "            self.edge_weights = tf.ones(shape=edges.shape[1])\n",
        "        # Scale edge_weights to sum to 1.\n",
        "        self.edge_weights = self.edge_weights / tf.math.reduce_sum(self.edge_weights)\n",
        "\n",
        "        # Create a process layer.\n",
        "        self.preprocess = create_fnn_layer()\n",
        "        # Create the first GraphConv layer.\n",
        "        self.conv1 = GraphConvLayer(\n",
        "            hidden_units,\n",
        "            dropout_rate,\n",
        "            aggregation_type,\n",
        "            combination_type,\n",
        "            normalize,\n",
        "            name=\"graph_conv1\",\n",
        "        )\n",
        "        # Create the second GraphConv layer.\n",
        "        self.conv2 = GraphConvLayer(\n",
        "            hidden_units,\n",
        "            dropout_rate,\n",
        "            aggregation_type,\n",
        "            combination_type,\n",
        "            normalize,\n",
        "            name=\"graph_conv2\",\n",
        "        )\n",
        "        # Create a postprocess layer.\n",
        "        self.postprocess = create_fnn_layer()\n",
        "        # Create a compute logits layer.\n",
        "        self.compute_logits = layers.Dense(units=num_classes, name=\"logits\")\n",
        "\n",
        "    def call(self, input_node_indices):\n",
        "        # Preprocess the node_features to produce node representations.\n",
        "        x = self.preprocess(self.node_features)\n",
        "        # Apply the first graph conv layer.\n",
        "        x1 = self.conv1((x, self.edges, self.edge_weights))\n",
        "        # Skip connection.\n",
        "        x = x1 + x\n",
        "        # Apply the second graph conv layer.\n",
        "        x2 = self.conv2((x, self.edges, self.edge_weights))\n",
        "        # Skip connection.\n",
        "        x = x2 + x\n",
        "        # Postprocess node embedding.\n",
        "        x = self.postprocess(x)\n",
        "        # Fetch node embeddings for the input node_indices.\n",
        "        node_embeddings = tf.gather(x, input_node_indices)\n",
        "        # Compute logits\n",
        "        return self.compute_logits(node_embeddings)"
      ],
      "metadata": {
        "id": "F9MsD-N-z-Gt"
      },
      "execution_count": null,
      "outputs": []
    },
    {
      "cell_type": "code",
      "source": [
        "gnn_model = GNNNodeClassifier(\n",
        "    graph_info=graph_info,\n",
        "    num_classes=n_labels,\n",
        "    hidden_units=hidden_units,\n",
        "    dropout_rate=dropout_rate,\n",
        "    name=\"gnn_model\",\n",
        ")\n",
        "\n",
        "print(\"GNN output shape:\", gnn_model([1, 10, 100]).shape)\n",
        "\n",
        "gnn_model.summary()"
      ],
      "metadata": {
        "colab": {
          "base_uri": "https://localhost:8080/"
        },
        "id": "s_PJ9PEg04VB",
        "outputId": "1d12451a-0112-4cbb-e43a-9a0e2a3418be"
      },
      "execution_count": null,
      "outputs": [
        {
          "output_type": "stream",
          "name": "stdout",
          "text": [
            "GNN output shape: (3, 7)\n",
            "Model: \"gnn_model\"\n",
            "_________________________________________________________________\n",
            " Layer (type)                Output Shape              Param #   \n",
            "=================================================================\n",
            " sequential_41 (Sequential)  (2708, 32)                52804     \n",
            "                                                                 \n",
            " graph_conv1 (GraphConvLayer  multiple                 5890      \n",
            " )                                                               \n",
            "                                                                 \n",
            " graph_conv2 (GraphConvLayer  multiple                 5890      \n",
            " )                                                               \n",
            "                                                                 \n",
            " sequential_46 (Sequential)  (2708, 32)                2368      \n",
            "                                                                 \n",
            " logits (Dense)              multiple                  231       \n",
            "                                                                 \n",
            "=================================================================\n",
            "Total params: 67,183\n",
            "Trainable params: 63,485\n",
            "Non-trainable params: 3,698\n",
            "_________________________________________________________________\n"
          ]
        }
      ]
    },
    {
      "cell_type": "code",
      "source": [
        "x_train = data_train.paper_id.to_numpy()\n",
        "\n",
        "\n",
        "\n",
        "# Compile the model.\n",
        "gnn_model.compile(\n",
        "    optimizer=keras.optimizers.Adam(learning_rate),\n",
        "    loss=keras.losses.SparseCategoricalCrossentropy(from_logits=True),\n",
        "    metrics=[keras.metrics.SparseCategoricalAccuracy(name=\"acc\")],\n",
        ")\n",
        "\n",
        "# Create an early stopping callback.\n",
        "early_stopping = keras.callbacks.EarlyStopping(\n",
        "    monitor=\"val_acc\", patience=50, restore_best_weights=True\n",
        ")\n",
        "gnn_model.summary()\n",
        "# Fit the model.\n",
        "history = gnn_model.fit(\n",
        "    x=x_train,\n",
        "    y=y_train,\n",
        "    epochs=num_epochs,\n",
        "    batch_size=batch_size,\n",
        "    validation_split=0.15,\n",
        "    callbacks=[early_stopping],\n",
        "    verbose=1\n",
        ")\n"
      ],
      "metadata": {
        "colab": {
          "base_uri": "https://localhost:8080/"
        },
        "id": "vOu3BFIU06-r",
        "outputId": "b1759659-8d4c-46a9-9716-d56871a4e2b0"
      },
      "execution_count": null,
      "outputs": [
        {
          "output_type": "stream",
          "name": "stdout",
          "text": [
            "Model: \"gnn_model\"\n",
            "_________________________________________________________________\n",
            " Layer (type)                Output Shape              Param #   \n",
            "=================================================================\n",
            " sequential_41 (Sequential)  (2708, 32)                52804     \n",
            "                                                                 \n",
            " graph_conv1 (GraphConvLayer  multiple                 5890      \n",
            " )                                                               \n",
            "                                                                 \n",
            " graph_conv2 (GraphConvLayer  multiple                 5890      \n",
            " )                                                               \n",
            "                                                                 \n",
            " sequential_46 (Sequential)  (2708, 32)                2368      \n",
            "                                                                 \n",
            " logits (Dense)              multiple                  231       \n",
            "                                                                 \n",
            "=================================================================\n",
            "Total params: 67,183\n",
            "Trainable params: 63,485\n",
            "Non-trainable params: 3,698\n",
            "_________________________________________________________________\n",
            "Epoch 1/300\n",
            "7/7 [==============================] - 9s 304ms/step - loss: 2.2654 - acc: 0.1634 - val_loss: 1.8876 - val_acc: 0.3115\n",
            "Epoch 2/300\n",
            "7/7 [==============================] - 1s 208ms/step - loss: 1.9780 - acc: 0.2758 - val_loss: 1.8710 - val_acc: 0.3115\n",
            "Epoch 3/300\n",
            "7/7 [==============================] - 1s 205ms/step - loss: 1.9144 - acc: 0.2671 - val_loss: 1.8656 - val_acc: 0.3115\n",
            "Epoch 4/300\n",
            "7/7 [==============================] - 1s 208ms/step - loss: 1.8666 - acc: 0.2833 - val_loss: 1.8609 - val_acc: 0.3115\n",
            "Epoch 5/300\n",
            "7/7 [==============================] - 1s 204ms/step - loss: 1.8395 - acc: 0.2984 - val_loss: 1.8509 - val_acc: 0.3115\n",
            "Epoch 6/300\n",
            "7/7 [==============================] - 1s 202ms/step - loss: 1.8466 - acc: 0.2879 - val_loss: 1.8462 - val_acc: 0.3115\n",
            "Epoch 7/300\n",
            "7/7 [==============================] - 1s 204ms/step - loss: 1.7993 - acc: 0.3019 - val_loss: 1.8322 - val_acc: 0.3115\n",
            "Epoch 8/300\n",
            "7/7 [==============================] - 1s 205ms/step - loss: 1.8050 - acc: 0.3007 - val_loss: 1.8081 - val_acc: 0.3508\n",
            "Epoch 9/300\n",
            "7/7 [==============================] - 1s 207ms/step - loss: 1.7652 - acc: 0.3175 - val_loss: 1.7656 - val_acc: 0.3672\n",
            "Epoch 10/300\n",
            "7/7 [==============================] - 1s 205ms/step - loss: 1.7156 - acc: 0.3465 - val_loss: 1.6535 - val_acc: 0.3836\n",
            "Epoch 11/300\n",
            "7/7 [==============================] - 1s 203ms/step - loss: 1.6514 - acc: 0.3586 - val_loss: 1.5420 - val_acc: 0.3869\n",
            "Epoch 12/300\n",
            "7/7 [==============================] - 1s 203ms/step - loss: 1.6116 - acc: 0.3969 - val_loss: 1.4863 - val_acc: 0.4000\n",
            "Epoch 13/300\n",
            "7/7 [==============================] - 1s 206ms/step - loss: 1.5516 - acc: 0.4131 - val_loss: 1.4072 - val_acc: 0.4393\n",
            "Epoch 14/300\n",
            "7/7 [==============================] - 1s 205ms/step - loss: 1.4566 - acc: 0.4513 - val_loss: 1.4309 - val_acc: 0.4328\n",
            "Epoch 15/300\n",
            "7/7 [==============================] - 1s 200ms/step - loss: 1.4123 - acc: 0.4710 - val_loss: 1.3199 - val_acc: 0.4721\n",
            "Epoch 16/300\n",
            "7/7 [==============================] - 1s 203ms/step - loss: 1.3528 - acc: 0.5035 - val_loss: 1.3279 - val_acc: 0.4885\n",
            "Epoch 17/300\n",
            "7/7 [==============================] - 1s 206ms/step - loss: 1.2530 - acc: 0.5272 - val_loss: 1.4074 - val_acc: 0.4885\n",
            "Epoch 18/300\n",
            "7/7 [==============================] - 1s 202ms/step - loss: 1.2093 - acc: 0.5608 - val_loss: 1.2899 - val_acc: 0.5180\n",
            "Epoch 19/300\n",
            "7/7 [==============================] - 1s 209ms/step - loss: 1.1225 - acc: 0.5968 - val_loss: 1.2594 - val_acc: 0.5770\n",
            "Epoch 20/300\n",
            "7/7 [==============================] - 1s 203ms/step - loss: 1.0808 - acc: 0.6165 - val_loss: 1.2101 - val_acc: 0.5902\n",
            "Epoch 21/300\n",
            "7/7 [==============================] - 1s 204ms/step - loss: 1.0225 - acc: 0.6414 - val_loss: 1.0279 - val_acc: 0.6623\n",
            "Epoch 22/300\n",
            "7/7 [==============================] - 1s 204ms/step - loss: 1.0310 - acc: 0.6385 - val_loss: 1.1168 - val_acc: 0.6230\n",
            "Epoch 23/300\n",
            "7/7 [==============================] - 2s 324ms/step - loss: 1.0086 - acc: 0.6402 - val_loss: 1.1779 - val_acc: 0.5836\n",
            "Epoch 24/300\n",
            "7/7 [==============================] - 1s 203ms/step - loss: 0.9377 - acc: 0.6640 - val_loss: 1.2810 - val_acc: 0.5803\n",
            "Epoch 25/300\n",
            "7/7 [==============================] - 1s 202ms/step - loss: 0.9334 - acc: 0.6825 - val_loss: 1.3672 - val_acc: 0.5770\n",
            "Epoch 26/300\n",
            "7/7 [==============================] - 1s 201ms/step - loss: 0.9025 - acc: 0.6958 - val_loss: 1.2511 - val_acc: 0.6000\n",
            "Epoch 27/300\n",
            "7/7 [==============================] - 1s 202ms/step - loss: 0.8550 - acc: 0.7086 - val_loss: 1.4023 - val_acc: 0.5869\n",
            "Epoch 28/300\n",
            "7/7 [==============================] - 1s 205ms/step - loss: 0.8311 - acc: 0.7063 - val_loss: 1.4070 - val_acc: 0.5869\n",
            "Epoch 29/300\n",
            "7/7 [==============================] - 1s 204ms/step - loss: 0.8135 - acc: 0.7254 - val_loss: 1.0309 - val_acc: 0.6689\n",
            "Epoch 30/300\n",
            "7/7 [==============================] - 1s 202ms/step - loss: 0.7979 - acc: 0.7173 - val_loss: 1.0692 - val_acc: 0.6426\n",
            "Epoch 31/300\n",
            "7/7 [==============================] - 1s 205ms/step - loss: 0.8049 - acc: 0.7312 - val_loss: 0.8919 - val_acc: 0.7115\n",
            "Epoch 32/300\n",
            "7/7 [==============================] - 1s 202ms/step - loss: 0.7209 - acc: 0.7520 - val_loss: 0.9039 - val_acc: 0.7213\n",
            "Epoch 33/300\n",
            "7/7 [==============================] - 2s 316ms/step - loss: 0.6921 - acc: 0.7677 - val_loss: 0.8598 - val_acc: 0.7279\n",
            "Epoch 34/300\n",
            "7/7 [==============================] - 2s 202ms/step - loss: 0.6773 - acc: 0.7683 - val_loss: 0.8367 - val_acc: 0.7443\n",
            "Epoch 35/300\n",
            "7/7 [==============================] - 1s 200ms/step - loss: 0.6598 - acc: 0.7677 - val_loss: 0.8013 - val_acc: 0.7311\n",
            "Epoch 36/300\n",
            "7/7 [==============================] - 2s 281ms/step - loss: 0.6741 - acc: 0.7688 - val_loss: 0.8416 - val_acc: 0.7344\n",
            "Epoch 37/300\n",
            "7/7 [==============================] - 2s 325ms/step - loss: 0.6695 - acc: 0.7769 - val_loss: 0.8561 - val_acc: 0.7311\n",
            "Epoch 38/300\n",
            "7/7 [==============================] - 2s 207ms/step - loss: 0.5932 - acc: 0.7972 - val_loss: 0.8979 - val_acc: 0.7377\n",
            "Epoch 39/300\n",
            "7/7 [==============================] - 2s 258ms/step - loss: 0.6552 - acc: 0.7810 - val_loss: 0.9876 - val_acc: 0.7180\n",
            "Epoch 40/300\n",
            "7/7 [==============================] - 2s 302ms/step - loss: 0.6387 - acc: 0.7914 - val_loss: 0.9306 - val_acc: 0.7279\n",
            "Epoch 41/300\n",
            "7/7 [==============================] - 1s 201ms/step - loss: 0.5832 - acc: 0.8042 - val_loss: 1.0653 - val_acc: 0.6885\n",
            "Epoch 42/300\n",
            "7/7 [==============================] - 1s 201ms/step - loss: 0.6315 - acc: 0.7978 - val_loss: 1.1356 - val_acc: 0.6590\n",
            "Epoch 43/300\n",
            "7/7 [==============================] - 1s 202ms/step - loss: 0.5962 - acc: 0.8013 - val_loss: 0.7430 - val_acc: 0.7705\n",
            "Epoch 44/300\n",
            "7/7 [==============================] - 1s 204ms/step - loss: 0.5676 - acc: 0.8076 - val_loss: 0.7741 - val_acc: 0.7574\n",
            "Epoch 45/300\n",
            "7/7 [==============================] - 1s 208ms/step - loss: 0.5540 - acc: 0.8256 - val_loss: 0.7813 - val_acc: 0.7705\n",
            "Epoch 46/300\n",
            "7/7 [==============================] - 1s 203ms/step - loss: 0.5317 - acc: 0.8204 - val_loss: 0.7731 - val_acc: 0.7934\n",
            "Epoch 47/300\n",
            "7/7 [==============================] - 1s 204ms/step - loss: 0.5876 - acc: 0.8105 - val_loss: 0.7372 - val_acc: 0.7869\n",
            "Epoch 48/300\n",
            "7/7 [==============================] - 1s 202ms/step - loss: 0.5482 - acc: 0.8239 - val_loss: 0.7481 - val_acc: 0.7803\n",
            "Epoch 49/300\n",
            "7/7 [==============================] - 1s 203ms/step - loss: 0.5502 - acc: 0.8123 - val_loss: 0.7972 - val_acc: 0.7770\n",
            "Epoch 50/300\n",
            "7/7 [==============================] - 1s 203ms/step - loss: 0.5439 - acc: 0.8279 - val_loss: 0.8471 - val_acc: 0.7770\n",
            "Epoch 51/300\n",
            "7/7 [==============================] - 1s 201ms/step - loss: 0.5314 - acc: 0.8216 - val_loss: 0.8011 - val_acc: 0.7738\n",
            "Epoch 52/300\n",
            "7/7 [==============================] - 1s 202ms/step - loss: 0.5173 - acc: 0.8308 - val_loss: 0.7934 - val_acc: 0.8000\n",
            "Epoch 53/300\n",
            "7/7 [==============================] - 1s 206ms/step - loss: 0.5345 - acc: 0.8268 - val_loss: 0.7322 - val_acc: 0.8197\n",
            "Epoch 54/300\n",
            "7/7 [==============================] - 1s 204ms/step - loss: 0.4917 - acc: 0.8384 - val_loss: 0.7606 - val_acc: 0.8033\n",
            "Epoch 55/300\n",
            "7/7 [==============================] - 1s 203ms/step - loss: 0.5273 - acc: 0.8326 - val_loss: 0.7740 - val_acc: 0.7967\n",
            "Epoch 56/300\n",
            "7/7 [==============================] - 1s 202ms/step - loss: 0.4870 - acc: 0.8372 - val_loss: 0.7384 - val_acc: 0.8000\n",
            "Epoch 57/300\n",
            "7/7 [==============================] - 1s 201ms/step - loss: 0.4842 - acc: 0.8441 - val_loss: 0.7590 - val_acc: 0.8033\n",
            "Epoch 58/300\n",
            "7/7 [==============================] - 1s 205ms/step - loss: 0.4865 - acc: 0.8407 - val_loss: 0.8353 - val_acc: 0.7770\n",
            "Epoch 59/300\n",
            "7/7 [==============================] - 1s 203ms/step - loss: 0.4666 - acc: 0.8505 - val_loss: 0.6847 - val_acc: 0.8164\n",
            "Epoch 60/300\n",
            "7/7 [==============================] - 1s 213ms/step - loss: 0.4364 - acc: 0.8621 - val_loss: 0.6625 - val_acc: 0.8262\n",
            "Epoch 61/300\n",
            "7/7 [==============================] - 1s 204ms/step - loss: 0.4534 - acc: 0.8482 - val_loss: 0.7261 - val_acc: 0.8197\n",
            "Epoch 62/300\n",
            "7/7 [==============================] - 1s 204ms/step - loss: 0.5002 - acc: 0.8384 - val_loss: 0.7381 - val_acc: 0.8131\n",
            "Epoch 63/300\n",
            "7/7 [==============================] - 1s 204ms/step - loss: 0.4603 - acc: 0.8517 - val_loss: 0.7380 - val_acc: 0.8230\n",
            "Epoch 64/300\n",
            "7/7 [==============================] - 1s 201ms/step - loss: 0.4767 - acc: 0.8488 - val_loss: 0.7231 - val_acc: 0.8164\n",
            "Epoch 65/300\n",
            "7/7 [==============================] - 1s 201ms/step - loss: 0.4568 - acc: 0.8465 - val_loss: 0.7333 - val_acc: 0.8066\n",
            "Epoch 66/300\n",
            "7/7 [==============================] - 1s 201ms/step - loss: 0.4548 - acc: 0.8563 - val_loss: 0.7579 - val_acc: 0.8066\n",
            "Epoch 67/300\n",
            "7/7 [==============================] - 1s 209ms/step - loss: 0.4443 - acc: 0.8592 - val_loss: 0.7619 - val_acc: 0.8000\n",
            "Epoch 68/300\n",
            "7/7 [==============================] - 1s 206ms/step - loss: 0.4512 - acc: 0.8511 - val_loss: 0.7953 - val_acc: 0.7967\n",
            "Epoch 69/300\n",
            "7/7 [==============================] - 1s 205ms/step - loss: 0.4873 - acc: 0.8476 - val_loss: 0.7268 - val_acc: 0.8164\n",
            "Epoch 70/300\n",
            "7/7 [==============================] - 1s 201ms/step - loss: 0.4518 - acc: 0.8627 - val_loss: 0.6928 - val_acc: 0.8230\n",
            "Epoch 71/300\n",
            "7/7 [==============================] - 1s 204ms/step - loss: 0.4127 - acc: 0.8702 - val_loss: 0.7106 - val_acc: 0.8197\n",
            "Epoch 72/300\n",
            "7/7 [==============================] - 1s 206ms/step - loss: 0.4174 - acc: 0.8662 - val_loss: 0.6722 - val_acc: 0.8197\n",
            "Epoch 73/300\n",
            "7/7 [==============================] - 1s 210ms/step - loss: 0.4594 - acc: 0.8586 - val_loss: 0.6694 - val_acc: 0.8328\n",
            "Epoch 74/300\n",
            "7/7 [==============================] - 1s 215ms/step - loss: 0.4316 - acc: 0.8667 - val_loss: 0.6994 - val_acc: 0.8328\n",
            "Epoch 75/300\n",
            "7/7 [==============================] - 2s 220ms/step - loss: 0.4221 - acc: 0.8708 - val_loss: 0.7191 - val_acc: 0.8197\n",
            "Epoch 76/300\n",
            "7/7 [==============================] - 2s 229ms/step - loss: 0.4160 - acc: 0.8679 - val_loss: 0.7274 - val_acc: 0.8328\n",
            "Epoch 77/300\n",
            "7/7 [==============================] - 2s 229ms/step - loss: 0.4057 - acc: 0.8720 - val_loss: 0.7257 - val_acc: 0.8230\n",
            "Epoch 78/300\n",
            "7/7 [==============================] - 1s 215ms/step - loss: 0.4058 - acc: 0.8766 - val_loss: 0.7364 - val_acc: 0.8295\n",
            "Epoch 79/300\n",
            "7/7 [==============================] - 2s 219ms/step - loss: 0.3605 - acc: 0.8818 - val_loss: 0.7253 - val_acc: 0.8328\n",
            "Epoch 80/300\n",
            "7/7 [==============================] - 2s 218ms/step - loss: 0.4381 - acc: 0.8615 - val_loss: 0.7271 - val_acc: 0.8361\n",
            "Epoch 81/300\n",
            "7/7 [==============================] - 2s 228ms/step - loss: 0.3775 - acc: 0.8841 - val_loss: 0.7479 - val_acc: 0.8361\n",
            "Epoch 82/300\n",
            "7/7 [==============================] - 2s 226ms/step - loss: 0.4104 - acc: 0.8766 - val_loss: 0.7806 - val_acc: 0.8328\n",
            "Epoch 83/300\n",
            "7/7 [==============================] - 2s 228ms/step - loss: 0.4068 - acc: 0.8696 - val_loss: 0.7693 - val_acc: 0.8328\n",
            "Epoch 84/300\n",
            "7/7 [==============================] - 2s 222ms/step - loss: 0.3832 - acc: 0.8801 - val_loss: 0.7901 - val_acc: 0.8262\n",
            "Epoch 85/300\n",
            "7/7 [==============================] - 2s 224ms/step - loss: 0.3832 - acc: 0.8806 - val_loss: 0.8065 - val_acc: 0.8328\n",
            "Epoch 86/300\n",
            "7/7 [==============================] - 2s 219ms/step - loss: 0.3845 - acc: 0.8824 - val_loss: 0.7741 - val_acc: 0.8328\n",
            "Epoch 87/300\n",
            "7/7 [==============================] - 2s 220ms/step - loss: 0.3884 - acc: 0.8766 - val_loss: 0.7556 - val_acc: 0.8328\n",
            "Epoch 88/300\n",
            "7/7 [==============================] - 2s 226ms/step - loss: 0.3823 - acc: 0.8778 - val_loss: 0.8137 - val_acc: 0.8197\n",
            "Epoch 89/300\n",
            "7/7 [==============================] - 2s 222ms/step - loss: 0.3794 - acc: 0.8754 - val_loss: 0.8530 - val_acc: 0.8131\n",
            "Epoch 90/300\n",
            "7/7 [==============================] - 2s 215ms/step - loss: 0.3902 - acc: 0.8720 - val_loss: 0.8091 - val_acc: 0.8459\n",
            "Epoch 91/300\n",
            "7/7 [==============================] - 1s 216ms/step - loss: 0.3789 - acc: 0.8778 - val_loss: 0.8348 - val_acc: 0.8164\n",
            "Epoch 92/300\n",
            "7/7 [==============================] - 1s 209ms/step - loss: 0.3862 - acc: 0.8685 - val_loss: 0.8082 - val_acc: 0.8262\n",
            "Epoch 93/300\n",
            "7/7 [==============================] - 1s 211ms/step - loss: 0.3754 - acc: 0.8812 - val_loss: 0.8112 - val_acc: 0.8230\n",
            "Epoch 94/300\n",
            "7/7 [==============================] - 2s 217ms/step - loss: 0.4300 - acc: 0.8638 - val_loss: 0.7974 - val_acc: 0.8393\n",
            "Epoch 95/300\n",
            "7/7 [==============================] - 2s 224ms/step - loss: 0.3694 - acc: 0.8789 - val_loss: 0.7599 - val_acc: 0.8393\n",
            "Epoch 96/300\n",
            "7/7 [==============================] - 2s 216ms/step - loss: 0.3582 - acc: 0.8911 - val_loss: 0.7689 - val_acc: 0.8557\n",
            "Epoch 97/300\n",
            "7/7 [==============================] - 3s 490ms/step - loss: 0.3824 - acc: 0.8737 - val_loss: 0.8406 - val_acc: 0.8328\n",
            "Epoch 98/300\n",
            "7/7 [==============================] - 4s 552ms/step - loss: 0.3408 - acc: 0.8946 - val_loss: 0.8195 - val_acc: 0.8328\n",
            "Epoch 99/300\n",
            "7/7 [==============================] - 2s 283ms/step - loss: 0.3648 - acc: 0.8917 - val_loss: 0.7930 - val_acc: 0.8459\n",
            "Epoch 100/300\n",
            "7/7 [==============================] - 2s 243ms/step - loss: 0.3697 - acc: 0.8882 - val_loss: 0.7754 - val_acc: 0.8426\n",
            "Epoch 101/300\n",
            "7/7 [==============================] - 8s 1s/step - loss: 0.3490 - acc: 0.8888 - val_loss: 0.7814 - val_acc: 0.8492\n",
            "Epoch 102/300\n",
            "7/7 [==============================] - 2s 242ms/step - loss: 0.3332 - acc: 0.9067 - val_loss: 0.7709 - val_acc: 0.8590\n",
            "Epoch 103/300\n",
            "7/7 [==============================] - 1s 211ms/step - loss: 0.3860 - acc: 0.8847 - val_loss: 0.7112 - val_acc: 0.8492\n",
            "Epoch 104/300\n",
            "7/7 [==============================] - 1s 206ms/step - loss: 0.3868 - acc: 0.8853 - val_loss: 0.7042 - val_acc: 0.8525\n",
            "Epoch 105/300\n",
            "7/7 [==============================] - 1s 206ms/step - loss: 0.3544 - acc: 0.8951 - val_loss: 0.7240 - val_acc: 0.8459\n",
            "Epoch 106/300\n",
            "7/7 [==============================] - 1s 206ms/step - loss: 0.3363 - acc: 0.8975 - val_loss: 0.7857 - val_acc: 0.8361\n",
            "Epoch 107/300\n",
            "7/7 [==============================] - 1s 205ms/step - loss: 0.3367 - acc: 0.8882 - val_loss: 0.8550 - val_acc: 0.8525\n",
            "Epoch 108/300\n",
            "7/7 [==============================] - 1s 214ms/step - loss: 0.3829 - acc: 0.8847 - val_loss: 0.8063 - val_acc: 0.8557\n",
            "Epoch 109/300\n",
            "7/7 [==============================] - 1s 204ms/step - loss: 0.3500 - acc: 0.8922 - val_loss: 0.7729 - val_acc: 0.8557\n",
            "Epoch 110/300\n",
            "7/7 [==============================] - 1s 206ms/step - loss: 0.3697 - acc: 0.8835 - val_loss: 0.7646 - val_acc: 0.8459\n",
            "Epoch 111/300\n",
            "7/7 [==============================] - 2s 342ms/step - loss: 0.3816 - acc: 0.8853 - val_loss: 0.7498 - val_acc: 0.8557\n",
            "Epoch 112/300\n",
            "7/7 [==============================] - 1s 206ms/step - loss: 0.3743 - acc: 0.8806 - val_loss: 0.7361 - val_acc: 0.8525\n",
            "Epoch 113/300\n",
            "7/7 [==============================] - 1s 206ms/step - loss: 0.3763 - acc: 0.8812 - val_loss: 0.7406 - val_acc: 0.8492\n",
            "Epoch 114/300\n",
            "7/7 [==============================] - 1s 208ms/step - loss: 0.3616 - acc: 0.8957 - val_loss: 0.7454 - val_acc: 0.8525\n",
            "Epoch 115/300\n",
            "7/7 [==============================] - 1s 206ms/step - loss: 0.3448 - acc: 0.8899 - val_loss: 0.7773 - val_acc: 0.8459\n",
            "Epoch 116/300\n",
            "7/7 [==============================] - 1s 208ms/step - loss: 0.3364 - acc: 0.8928 - val_loss: 0.7752 - val_acc: 0.8492\n",
            "Epoch 117/300\n",
            "7/7 [==============================] - 1s 212ms/step - loss: 0.3577 - acc: 0.8922 - val_loss: 0.7934 - val_acc: 0.8459\n",
            "Epoch 118/300\n",
            "7/7 [==============================] - 1s 210ms/step - loss: 0.3439 - acc: 0.9009 - val_loss: 0.7435 - val_acc: 0.8590\n",
            "Epoch 119/300\n",
            "7/7 [==============================] - 1s 205ms/step - loss: 0.3146 - acc: 0.9015 - val_loss: 0.7650 - val_acc: 0.8459\n",
            "Epoch 120/300\n",
            "7/7 [==============================] - 1s 206ms/step - loss: 0.3230 - acc: 0.9021 - val_loss: 0.7551 - val_acc: 0.8459\n",
            "Epoch 121/300\n",
            "7/7 [==============================] - 1s 206ms/step - loss: 0.3505 - acc: 0.8951 - val_loss: 0.7529 - val_acc: 0.8492\n",
            "Epoch 122/300\n",
            "7/7 [==============================] - 1s 205ms/step - loss: 0.3466 - acc: 0.8963 - val_loss: 0.7590 - val_acc: 0.8492\n",
            "Epoch 123/300\n",
            "7/7 [==============================] - 1s 206ms/step - loss: 0.3188 - acc: 0.8951 - val_loss: 0.7911 - val_acc: 0.8426\n",
            "Epoch 124/300\n",
            "7/7 [==============================] - 1s 206ms/step - loss: 0.3429 - acc: 0.9015 - val_loss: 0.7951 - val_acc: 0.8492\n",
            "Epoch 125/300\n",
            "7/7 [==============================] - 1s 203ms/step - loss: 0.3508 - acc: 0.8969 - val_loss: 0.8225 - val_acc: 0.8393\n",
            "Epoch 126/300\n",
            "7/7 [==============================] - 1s 209ms/step - loss: 0.3293 - acc: 0.9027 - val_loss: 0.8483 - val_acc: 0.8328\n",
            "Epoch 127/300\n",
            "7/7 [==============================] - 1s 207ms/step - loss: 0.3369 - acc: 0.8893 - val_loss: 0.8183 - val_acc: 0.8426\n",
            "Epoch 128/300\n",
            "7/7 [==============================] - 1s 205ms/step - loss: 0.3563 - acc: 0.8882 - val_loss: 0.7852 - val_acc: 0.8361\n",
            "Epoch 129/300\n",
            "7/7 [==============================] - 1s 208ms/step - loss: 0.3114 - acc: 0.9079 - val_loss: 0.7905 - val_acc: 0.8459\n",
            "Epoch 130/300\n",
            "7/7 [==============================] - 1s 204ms/step - loss: 0.3126 - acc: 0.9056 - val_loss: 0.8312 - val_acc: 0.8492\n",
            "Epoch 131/300\n",
            "7/7 [==============================] - 1s 205ms/step - loss: 0.3105 - acc: 0.9067 - val_loss: 0.8317 - val_acc: 0.8525\n",
            "Epoch 132/300\n",
            "7/7 [==============================] - 1s 205ms/step - loss: 0.3281 - acc: 0.8975 - val_loss: 0.8403 - val_acc: 0.8393\n",
            "Epoch 133/300\n",
            "7/7 [==============================] - 1s 208ms/step - loss: 0.3216 - acc: 0.9125 - val_loss: 0.8435 - val_acc: 0.8426\n",
            "Epoch 134/300\n",
            "7/7 [==============================] - 1s 205ms/step - loss: 0.3134 - acc: 0.9003 - val_loss: 0.8065 - val_acc: 0.8557\n",
            "Epoch 135/300\n",
            "7/7 [==============================] - 1s 206ms/step - loss: 0.3374 - acc: 0.8980 - val_loss: 0.7658 - val_acc: 0.8525\n",
            "Epoch 136/300\n",
            "7/7 [==============================] - 1s 213ms/step - loss: 0.3210 - acc: 0.9021 - val_loss: 0.7642 - val_acc: 0.8590\n",
            "Epoch 137/300\n",
            "7/7 [==============================] - 1s 205ms/step - loss: 0.2986 - acc: 0.9079 - val_loss: 0.8305 - val_acc: 0.8295\n",
            "Epoch 138/300\n",
            "7/7 [==============================] - 1s 205ms/step - loss: 0.3109 - acc: 0.9032 - val_loss: 0.8340 - val_acc: 0.8361\n",
            "Epoch 139/300\n",
            "7/7 [==============================] - 1s 205ms/step - loss: 0.3270 - acc: 0.8934 - val_loss: 0.8178 - val_acc: 0.8525\n",
            "Epoch 140/300\n",
            "7/7 [==============================] - 1s 206ms/step - loss: 0.3168 - acc: 0.9090 - val_loss: 0.8009 - val_acc: 0.8557\n",
            "Epoch 141/300\n",
            "7/7 [==============================] - 1s 208ms/step - loss: 0.3294 - acc: 0.9056 - val_loss: 0.7930 - val_acc: 0.8525\n",
            "Epoch 142/300\n",
            "7/7 [==============================] - 1s 204ms/step - loss: 0.3239 - acc: 0.8980 - val_loss: 0.8310 - val_acc: 0.8623\n",
            "Epoch 143/300\n",
            "7/7 [==============================] - 1s 207ms/step - loss: 0.3048 - acc: 0.9143 - val_loss: 0.8402 - val_acc: 0.8492\n",
            "Epoch 144/300\n",
            "7/7 [==============================] - 1s 206ms/step - loss: 0.3371 - acc: 0.9032 - val_loss: 0.7941 - val_acc: 0.8492\n",
            "Epoch 145/300\n",
            "7/7 [==============================] - 1s 204ms/step - loss: 0.3330 - acc: 0.8951 - val_loss: 0.7610 - val_acc: 0.8492\n",
            "Epoch 146/300\n",
            "7/7 [==============================] - 1s 207ms/step - loss: 0.2915 - acc: 0.9102 - val_loss: 0.7748 - val_acc: 0.8459\n",
            "Epoch 147/300\n",
            "7/7 [==============================] - 1s 205ms/step - loss: 0.3081 - acc: 0.9096 - val_loss: 0.7909 - val_acc: 0.8557\n",
            "Epoch 148/300\n",
            "7/7 [==============================] - 1s 205ms/step - loss: 0.3247 - acc: 0.9044 - val_loss: 0.8049 - val_acc: 0.8590\n",
            "Epoch 149/300\n",
            "7/7 [==============================] - 1s 205ms/step - loss: 0.3506 - acc: 0.8917 - val_loss: 0.8158 - val_acc: 0.8492\n",
            "Epoch 150/300\n",
            "7/7 [==============================] - 1s 204ms/step - loss: 0.3577 - acc: 0.8998 - val_loss: 0.8015 - val_acc: 0.8492\n",
            "Epoch 151/300\n",
            "7/7 [==============================] - 1s 202ms/step - loss: 0.3008 - acc: 0.9125 - val_loss: 0.8024 - val_acc: 0.8623\n",
            "Epoch 152/300\n",
            "7/7 [==============================] - 1s 205ms/step - loss: 0.3235 - acc: 0.8975 - val_loss: 0.7747 - val_acc: 0.8721\n",
            "Epoch 153/300\n",
            "7/7 [==============================] - 1s 204ms/step - loss: 0.3283 - acc: 0.8980 - val_loss: 0.7398 - val_acc: 0.8689\n",
            "Epoch 154/300\n",
            "7/7 [==============================] - 1s 209ms/step - loss: 0.3234 - acc: 0.9044 - val_loss: 0.7496 - val_acc: 0.8557\n",
            "Epoch 155/300\n",
            "7/7 [==============================] - 1s 204ms/step - loss: 0.2898 - acc: 0.9160 - val_loss: 0.7607 - val_acc: 0.8557\n",
            "Epoch 156/300\n",
            "7/7 [==============================] - 1s 204ms/step - loss: 0.3095 - acc: 0.9102 - val_loss: 0.7805 - val_acc: 0.8689\n",
            "Epoch 157/300\n",
            "7/7 [==============================] - 1s 204ms/step - loss: 0.2999 - acc: 0.9027 - val_loss: 0.7828 - val_acc: 0.8590\n",
            "Epoch 158/300\n",
            "7/7 [==============================] - 1s 209ms/step - loss: 0.2994 - acc: 0.9032 - val_loss: 0.7817 - val_acc: 0.8557\n",
            "Epoch 159/300\n",
            "7/7 [==============================] - 1s 209ms/step - loss: 0.2870 - acc: 0.9224 - val_loss: 0.8127 - val_acc: 0.8525\n",
            "Epoch 160/300\n",
            "7/7 [==============================] - 1s 207ms/step - loss: 0.3124 - acc: 0.9050 - val_loss: 0.7938 - val_acc: 0.8525\n",
            "Epoch 161/300\n",
            "7/7 [==============================] - 1s 205ms/step - loss: 0.3006 - acc: 0.9032 - val_loss: 0.7808 - val_acc: 0.8525\n",
            "Epoch 162/300\n",
            "7/7 [==============================] - 1s 207ms/step - loss: 0.3031 - acc: 0.9079 - val_loss: 0.7918 - val_acc: 0.8557\n",
            "Epoch 163/300\n",
            "7/7 [==============================] - 1s 210ms/step - loss: 0.3228 - acc: 0.9044 - val_loss: 0.7733 - val_acc: 0.8590\n",
            "Epoch 164/300\n",
            "7/7 [==============================] - 1s 211ms/step - loss: 0.3128 - acc: 0.9003 - val_loss: 0.7630 - val_acc: 0.8656\n",
            "Epoch 165/300\n",
            "7/7 [==============================] - 1s 212ms/step - loss: 0.3139 - acc: 0.9085 - val_loss: 0.7893 - val_acc: 0.8557\n",
            "Epoch 166/300\n",
            "7/7 [==============================] - 1s 206ms/step - loss: 0.3380 - acc: 0.8957 - val_loss: 0.7868 - val_acc: 0.8623\n",
            "Epoch 167/300\n",
            "7/7 [==============================] - 2s 302ms/step - loss: 0.3150 - acc: 0.9061 - val_loss: 0.7816 - val_acc: 0.8623\n",
            "Epoch 168/300\n",
            "7/7 [==============================] - 2s 256ms/step - loss: 0.3187 - acc: 0.9061 - val_loss: 0.8149 - val_acc: 0.8393\n",
            "Epoch 169/300\n",
            "7/7 [==============================] - 1s 207ms/step - loss: 0.3192 - acc: 0.9056 - val_loss: 0.7552 - val_acc: 0.8459\n",
            "Epoch 170/300\n",
            "7/7 [==============================] - 1s 207ms/step - loss: 0.3120 - acc: 0.9073 - val_loss: 0.7598 - val_acc: 0.8525\n",
            "Epoch 171/300\n",
            "7/7 [==============================] - 1s 212ms/step - loss: 0.3013 - acc: 0.9160 - val_loss: 0.7897 - val_acc: 0.8557\n",
            "Epoch 172/300\n",
            "7/7 [==============================] - 1s 205ms/step - loss: 0.3199 - acc: 0.9061 - val_loss: 0.7608 - val_acc: 0.8590\n",
            "Epoch 173/300\n",
            "7/7 [==============================] - 1s 204ms/step - loss: 0.2661 - acc: 0.9148 - val_loss: 0.8174 - val_acc: 0.8525\n",
            "Epoch 174/300\n",
            "7/7 [==============================] - 1s 207ms/step - loss: 0.3115 - acc: 0.9096 - val_loss: 0.8121 - val_acc: 0.8525\n",
            "Epoch 175/300\n",
            "7/7 [==============================] - 1s 203ms/step - loss: 0.2825 - acc: 0.9177 - val_loss: 0.8119 - val_acc: 0.8525\n",
            "Epoch 176/300\n",
            "7/7 [==============================] - 1s 205ms/step - loss: 0.3351 - acc: 0.8980 - val_loss: 0.7877 - val_acc: 0.8557\n",
            "Epoch 177/300\n",
            "7/7 [==============================] - 1s 206ms/step - loss: 0.3267 - acc: 0.9061 - val_loss: 0.7807 - val_acc: 0.8557\n",
            "Epoch 178/300\n",
            "7/7 [==============================] - 1s 204ms/step - loss: 0.2799 - acc: 0.9200 - val_loss: 0.7669 - val_acc: 0.8590\n",
            "Epoch 179/300\n",
            "7/7 [==============================] - 1s 209ms/step - loss: 0.2765 - acc: 0.9102 - val_loss: 0.7568 - val_acc: 0.8689\n",
            "Epoch 180/300\n",
            "7/7 [==============================] - 1s 204ms/step - loss: 0.3107 - acc: 0.9137 - val_loss: 0.7525 - val_acc: 0.8623\n",
            "Epoch 181/300\n",
            "7/7 [==============================] - 1s 204ms/step - loss: 0.2954 - acc: 0.9096 - val_loss: 0.7817 - val_acc: 0.8525\n",
            "Epoch 182/300\n",
            "7/7 [==============================] - 2s 224ms/step - loss: 0.3018 - acc: 0.9096 - val_loss: 0.8073 - val_acc: 0.8525\n",
            "Epoch 183/300\n",
            "7/7 [==============================] - 2s 226ms/step - loss: 0.2818 - acc: 0.9166 - val_loss: 0.7838 - val_acc: 0.8525\n",
            "Epoch 184/300\n",
            "7/7 [==============================] - 2s 221ms/step - loss: 0.2859 - acc: 0.9154 - val_loss: 0.7773 - val_acc: 0.8590\n",
            "Epoch 185/300\n",
            "7/7 [==============================] - 1s 215ms/step - loss: 0.2973 - acc: 0.9102 - val_loss: 0.7729 - val_acc: 0.8590\n",
            "Epoch 186/300\n",
            "7/7 [==============================] - 1s 206ms/step - loss: 0.3011 - acc: 0.8998 - val_loss: 0.7729 - val_acc: 0.8590\n",
            "Epoch 187/300\n",
            "7/7 [==============================] - 1s 203ms/step - loss: 0.2853 - acc: 0.9195 - val_loss: 0.7527 - val_acc: 0.8623\n",
            "Epoch 188/300\n",
            "7/7 [==============================] - 1s 204ms/step - loss: 0.2926 - acc: 0.9195 - val_loss: 0.7557 - val_acc: 0.8525\n",
            "Epoch 189/300\n",
            "7/7 [==============================] - 1s 206ms/step - loss: 0.3043 - acc: 0.9131 - val_loss: 0.7552 - val_acc: 0.8492\n",
            "Epoch 190/300\n",
            "7/7 [==============================] - 2s 230ms/step - loss: 0.3262 - acc: 0.8992 - val_loss: 0.7745 - val_acc: 0.8426\n",
            "Epoch 191/300\n",
            "7/7 [==============================] - 2s 227ms/step - loss: 0.2898 - acc: 0.9154 - val_loss: 0.7220 - val_acc: 0.8459\n",
            "Epoch 192/300\n",
            "7/7 [==============================] - 2s 231ms/step - loss: 0.2702 - acc: 0.9189 - val_loss: 0.7561 - val_acc: 0.8492\n",
            "Epoch 193/300\n",
            "7/7 [==============================] - 2s 227ms/step - loss: 0.2808 - acc: 0.9195 - val_loss: 0.7853 - val_acc: 0.8557\n",
            "Epoch 194/300\n",
            "7/7 [==============================] - 2s 225ms/step - loss: 0.2699 - acc: 0.9154 - val_loss: 0.8173 - val_acc: 0.8492\n",
            "Epoch 195/300\n",
            "7/7 [==============================] - 2s 230ms/step - loss: 0.3033 - acc: 0.9154 - val_loss: 0.8101 - val_acc: 0.8557\n",
            "Epoch 196/300\n",
            "7/7 [==============================] - 2s 232ms/step - loss: 0.3222 - acc: 0.9090 - val_loss: 0.8184 - val_acc: 0.8525\n",
            "Epoch 197/300\n",
            "7/7 [==============================] - 2s 218ms/step - loss: 0.2805 - acc: 0.9166 - val_loss: 0.8099 - val_acc: 0.8525\n",
            "Epoch 198/300\n",
            "7/7 [==============================] - 1s 212ms/step - loss: 0.2752 - acc: 0.9218 - val_loss: 0.7871 - val_acc: 0.8623\n",
            "Epoch 199/300\n",
            "7/7 [==============================] - 1s 214ms/step - loss: 0.2688 - acc: 0.9241 - val_loss: 0.8134 - val_acc: 0.8525\n",
            "Epoch 200/300\n",
            "7/7 [==============================] - 1s 206ms/step - loss: 0.2819 - acc: 0.9096 - val_loss: 0.8097 - val_acc: 0.8721\n",
            "Epoch 201/300\n",
            "7/7 [==============================] - 1s 207ms/step - loss: 0.2903 - acc: 0.9206 - val_loss: 0.8154 - val_acc: 0.8689\n",
            "Epoch 202/300\n",
            "7/7 [==============================] - 1s 208ms/step - loss: 0.2682 - acc: 0.9114 - val_loss: 0.8184 - val_acc: 0.8525\n"
          ]
        }
      ]
    },
    {
      "cell_type": "code",
      "source": [
        "metrics = [k for k in history.history.keys() if \"val_\" not in k]\n",
        "fig, axs = plt.subplots(1, len(metrics))\n",
        "for m, ax in zip(metrics, axs.flatten()):\n",
        "  ax.plot(history.history[m])\n",
        "  ax.plot(history.history[\"val_\" + m])\n",
        "  ax.set_title(m)"
      ],
      "metadata": {
        "colab": {
          "base_uri": "https://localhost:8080/",
          "height": 281
        },
        "id": "6aiLsOF61njk",
        "outputId": "6957be82-6389-415f-ed67-f18488b7c0d1"
      },
      "execution_count": null,
      "outputs": [
        {
          "output_type": "display_data",
          "data": {
            "text/plain": [
              "<Figure size 432x288 with 2 Axes>"
            ],
            "image/png": "[encoded data removed]"
          },
          "metadata": {
            "needs_background": "light"
          }
        }
      ]
    },
    {
      "cell_type": "code",
      "source": [
        "x_test = data_test.paper_id.to_numpy()\n",
        "\n",
        "score = gnn_model.evaluate(x_test, y_test)[1]\n",
        "dict_results[\"graph neural network\"] = score\n",
        "print(\"Accuracy graph network model: \", score)"
      ],
      "metadata": {
        "colab": {
          "base_uri": "https://localhost:8080/"
        },
        "id": "rulChpEflIJn",
        "outputId": "db3db457-cbf6-4fd0-9b12-742a70f57d68"
      },
      "execution_count": null,
      "outputs": [
        {
          "output_type": "stream",
          "name": "stdout",
          "text": [
            "22/22 [==============================] - 1s 58ms/step - loss: 0.5588 - acc: 0.8582\n",
            "Accuracy graph network model:  0.8581979274749756\n"
          ]
        }
      ]
    },
    {
      "cell_type": "markdown",
      "source": [
        "# Results"
      ],
      "metadata": {
        "id": "jWXeggOw8yW6"
      }
    },
    {
      "cell_type": "code",
      "source": [
        "pd.DataFrame(dict_results.items(), columns=[\"model\", \"accuracy\"]).set_index(\"model\").plot.bar()"
      ],
      "metadata": {
        "colab": {
          "base_uri": "https://localhost:8080/",
          "height": 407
        },
        "id": "hJqFnljQ829Y",
        "outputId": "ee2fe080-6f0e-40ec-9903-1e80b209f546"
      },
      "execution_count": null,
      "outputs": [
        {
          "output_type": "execute_result",
          "data": {
            "text/plain": [
              "<matplotlib.axes._subplots.AxesSubplot at 0x7f7ee177e110>"
            ]
          },
          "metadata": {},
          "execution_count": 62
        },
        {
          "output_type": "display_data",
          "data": {
            "text/plain": [
              "<Figure size 432x288 with 1 Axes>"
            ],
            "image/png": "[encoded data removed]"
          },
          "metadata": {
            "needs_background": "light"
          }
        }
      ]
    }
  ]
}