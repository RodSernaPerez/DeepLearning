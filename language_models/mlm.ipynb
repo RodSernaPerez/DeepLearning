{
 "cells": [
  {
   "cell_type": "markdown",
   "id": "f6522ef9-03b1-4f0e-8a93-47f93b6617b2",
   "metadata": {},
   "source": [
    "Trains a simple masked language model with one layer of bert and applies visualization on the results."
   ]
  },
  {
   "cell_type": "code",
   "execution_count": 1,
   "id": "interracial-traffic",
   "metadata": {},
   "outputs": [],
   "source": [
    "from tensorflow import keras\n",
    "import tensorflow as tf\n",
    "import pandas as pd\n",
    "from tensorflow.keras.preprocessing.text import Tokenizer\n",
    "from tensorflow.keras.preprocessing.sequence import pad_sequences\n",
    "import random\n",
    "import numpy as np\n",
    "import matplotlib.pyplot as plt\n",
    "from sklearn.feature_extraction.text import CountVectorizer\n",
    "import scipy"
   ]
  },
  {
   "cell_type": "code",
   "execution_count": 2,
   "id": "happy-premises",
   "metadata": {},
   "outputs": [
    {
     "name": "stdout",
     "output_type": "stream",
     "text": [
      "GPUS:  [PhysicalDevice(name='/physical_device:GPU:0', device_type='GPU')]\n",
      "CPUS:  [PhysicalDevice(name='/physical_device:CPU:0', device_type='CPU')]\n",
      "CUDA:  11.2 CUDNN:  8\n"
     ]
    },
    {
     "name": "stderr",
     "output_type": "stream",
     "text": [
      "2022-03-12 19:49:01.328672: I tensorflow/stream_executor/cuda/cuda_gpu_executor.cc:925] could not open file to read NUMA node: /sys/bus/pci/devices/0000:01:00.0/numa_node\n",
      "Your kernel may have been built without NUMA support.\n",
      "2022-03-12 19:49:01.450686: I tensorflow/stream_executor/cuda/cuda_gpu_executor.cc:925] could not open file to read NUMA node: /sys/bus/pci/devices/0000:01:00.0/numa_node\n",
      "Your kernel may have been built without NUMA support.\n",
      "2022-03-12 19:49:01.451327: I tensorflow/stream_executor/cuda/cuda_gpu_executor.cc:925] could not open file to read NUMA node: /sys/bus/pci/devices/0000:01:00.0/numa_node\n",
      "Your kernel may have been built without NUMA support.\n"
     ]
    }
   ],
   "source": [
    "GPU = True\n",
    "if GPU: \n",
    "    gpus = tf.config.list_physical_devices('GPU')\n",
    "    cpus = tf.config.list_physical_devices('CPU')\n",
    "    print(\"GPUS: \", gpus)\n",
    "    print(\"CPUS: \", cpus)\n",
    "    sys_details = tf.sysconfig.get_build_info()\n",
    "    cuda = sys_details[\"cuda_version\"]\n",
    "    cudnn = sys_details[\"cudnn_version\"]\n",
    "    print(\"CUDA: \", cuda, \"CUDNN: \", cudnn)\n",
    "else:\n",
    "    import os\n",
    "    os.environ['CUDA_VISIBLE_DEVICES'] = '-1'"
   ]
  },
  {
   "cell_type": "markdown",
   "id": "transparent-african",
   "metadata": {},
   "source": [
    "# Loads datasets"
   ]
  },
  {
   "cell_type": "code",
   "execution_count": 3,
   "id": "acquired-projector",
   "metadata": {},
   "outputs": [],
   "source": [
    "PATH_DATASETS = \"../datasets/nlp/toxicity/\"\n",
    "\n",
    "df_train = pd.read_csv(PATH_DATASETS+ \"train.csv\")\n",
    "df_val = pd.read_csv(PATH_DATASETS + \"val.csv\")\n",
    "df_test = pd.read_csv(PATH_DATASETS + \"test.csv\")"
   ]
  },
  {
   "cell_type": "markdown",
   "id": "framed-numbers",
   "metadata": {},
   "source": [
    "# Dataset Generator"
   ]
  },
  {
   "cell_type": "code",
   "execution_count": 96,
   "id": "urban-sphere",
   "metadata": {},
   "outputs": [],
   "source": [
    "class Dataset:\n",
    "    def __init__(self, texts_to_fit, number_words, batch_size):\n",
    "        self.number_words = number_words\n",
    "        self.tokenizer = Tokenizer(num_words=number_words)\n",
    "        self.tokenizer.fit_on_texts(texts_to_fit)\n",
    "        self.batch_size = batch_size\n",
    "        \n",
    "        self.word2count = self.tokenizer.word_counts\n",
    "        self.mask_words = []\n",
    "        \n",
    "    @property\n",
    "    def mask_number(self):\n",
    "        return self.number_words + 1\n",
    "    \n",
    "    def mask_data(self, sequences):\n",
    "        for i in range(len(sequences)):\n",
    "            while True:\n",
    "                try:\n",
    "                    first_not_padding = np.where(sequences[i] != 0)[0][0]\n",
    "\n",
    "                    mask_index = self.choose_token_at_random(sequences[i]) # random.randint(first_not_padding, len(sequences[i]) - 1)\n",
    "                    if sequences[i][mask_index] != 0: # padding\n",
    "                        break\n",
    "                except IndexError: # In case all are padding\n",
    "                    mask_index = 0\n",
    "                    break\n",
    "            sequences[i][mask_index] = self.mask_number\n",
    "            \n",
    "        return sequences\n",
    "    \n",
    "    def choose_token_at_random(self, sequence):\n",
    "        counts = [self.word2count.get(dataset.tokenizer.index_word.get(s), 0) for s in sequence]\n",
    "        counts = np.asarray(counts)\n",
    "        counts_norm = 1 / counts\n",
    "        for i in range(len(sequence)):\n",
    "            if sequence[i] == 0: # Padding, must not be considered\n",
    "                counts_norm[i] = -100000 \n",
    "        \n",
    "        probs = scipy.special.softmax(counts_norm)\n",
    "        chosen_index = np.random.choice(len(sequence), 1, p=probs)[0]\n",
    "        # self.mask_words.append(self.tokenizer.index_word.get(sequence[chosen_index], sequence[chosen_index]))\n",
    "        return chosen_index\n",
    "    \n",
    "    def generate(self, texts_):\n",
    "        texts = texts_.copy()\n",
    "        while True:\n",
    "            i = 0\n",
    "            np.random.shuffle(texts)\n",
    "            while (i + self.batch_size) < len(texts):\n",
    "                texts_sample = texts[i: i + self.batch_size]\n",
    "\n",
    "                texts_tokenized = self.tokenizer.texts_to_sequences(texts_sample)\n",
    "                max_length = max([len(x) for x in texts_tokenized])\n",
    "                padded_data = pad_sequences(texts_tokenized, maxlen=max_length)\n",
    "                x_data = self.mask_data(padded_data)\n",
    "                y_data = padded_data\n",
    "\n",
    "                mask_data = ~np.isin(x_data, [0, self.mask_number])\n",
    "                order_data = np.asarray([np.arange(max_length) for _ in texts_sample])\n",
    "                x_data = np.expand_dims(x_data, 1)\n",
    "                order_data =  np.expand_dims(order_data, 1)\n",
    "                yield ({\"input\": x_data, \"mask\": mask_data, \"order_input\": order_data}, y_data)\n",
    "                i = i + self.batch_size\n"
   ]
  },
  {
   "cell_type": "code",
   "execution_count": 97,
   "id": "alert-green",
   "metadata": {},
   "outputs": [],
   "source": [
    "dataset = Dataset(df_train[\"comment_text\"], number_words=3_000, batch_size=64)"
   ]
  },
  {
   "cell_type": "code",
   "execution_count": 98,
   "id": "4527b82a-83d7-43ae-b345-614465cf615a",
   "metadata": {},
   "outputs": [
    {
     "name": "stderr",
     "output_type": "stream",
     "text": [
      "/tmp/ipykernel_14359/3837055476.py:34: RuntimeWarning: divide by zero encountered in true_divide\n",
      "  counts_norm = 1 / counts\n"
     ]
    },
    {
     "data": {
      "image/png": "[encoded data removed]",
      "text/plain": [
       "<Figure size 432x288 with 1 Axes>"
      ]
     },
     "metadata": {
      "needs_background": "light"
     },
     "output_type": "display_data"
    }
   ],
   "source": [
    "x = dataset.generate(df_train[\"comment_text\"])\n",
    "lengths = []\n",
    "for i in range(100):\n",
    "    y = next(x)\n",
    "    lengths.append(y[0][\"input\"].shape[2])\n",
    "plt.hist(lengths);"
   ]
  },
  {
   "cell_type": "markdown",
   "id": "experimental-niagara",
   "metadata": {},
   "source": [
    "# Train model"
   ]
  },
  {
   "cell_type": "code",
   "execution_count": 99,
   "id": "interim-technical",
   "metadata": {},
   "outputs": [],
   "source": [
    "MAX_LENGTH = 1_000\n",
    "NUMBER_WORDS = 3_000\n",
    "EMBEDDING_SIZE = 30\n",
    "NUM_HEADS = 5"
   ]
  },
  {
   "cell_type": "code",
   "execution_count": 100,
   "id": "invisible-registration",
   "metadata": {},
   "outputs": [],
   "source": [
    "def get_pos_encoding_matrix(max_len, d_emb):\n",
    "    pos_enc = np.array(\n",
    "        [\n",
    "            [pos / np.power(10000, 2 * (j // 2) / d_emb) for j in range(d_emb)]\n",
    "            if pos != 0\n",
    "            else np.zeros(d_emb)\n",
    "            for pos in range(max_len)\n",
    "        ]\n",
    "    )\n",
    "    pos_enc[1:, 0::2] = np.sin(pos_enc[1:, 0::2])  # dim 2i\n",
    "    pos_enc[1:, 1::2] = np.cos(pos_enc[1:, 1::2])  # dim 2i+1\n",
    "    return pos_enc\n"
   ]
  },
  {
   "cell_type": "code",
   "execution_count": 101,
   "id": "gorgeous-victorian",
   "metadata": {},
   "outputs": [],
   "source": [
    "input_ = keras.layers.Input(shape=(None, 1), name=\"input\")\n",
    "mask_input = keras.layers.Input(shape=(None, ), name=\"mask\", dtype=\"bool\")\n",
    "order_input =  keras.layers.Input(shape=(None, 1), name=\"order_input\")\n",
    "\n",
    "\n",
    "word_embedder = keras.layers.Embedding(NUMBER_WORDS + 2, EMBEDDING_SIZE, name=\"embedding\")\n",
    "\n",
    "position_embedder = keras.layers.Embedding(\n",
    "    input_dim=MAX_LENGTH,\n",
    "    output_dim=EMBEDDING_SIZE,\n",
    "    weights=[get_pos_encoding_matrix(MAX_LENGTH, EMBEDDING_SIZE)],\n",
    "    trainable=False,\n",
    "    name=\"position_embedding\")\n",
    "\n",
    "position_embeddings = position_embedder(order_input)\n",
    "position_embeddings = keras.layers.Reshape((-1, EMBEDDING_SIZE), name=\"reshaping_position_embedding\")(position_embeddings)\n",
    "\n",
    "\n",
    "word_embedding = word_embedder(input_)\n",
    "word_embedding = keras.layers.Reshape((-1, EMBEDDING_SIZE), name=\"reshaping\")(word_embedding)\n",
    "word_embedding = word_embedding + position_embeddings\n",
    "\n",
    "\n",
    "attention_output, attention_scores = keras.layers.Attention(name=\"atention\", dropout=0.3)([word_embedding, word_embedding], mask=[mask_input, mask_input], return_attention_scores=True)\n",
    "\n",
    "attention_output = keras.layers.BatchNormalization()(attention_output)\n",
    "\n",
    "ff1 = keras.layers.Dense(EMBEDDING_SIZE, activation=\"relu\")(attention_output)\n",
    "ff1 = keras.layers.Dropout(0.3)(ff1)\n",
    "ff2 = keras.layers.Dense(EMBEDDING_SIZE)(ff1)\n",
    "\n",
    "output = keras.layers.Dense(NUMBER_WORDS + 2, activation=\"softmax\")(ff2)\n",
    "\n",
    "mask_language_model = keras.models.Model([input_, mask_input, order_input], output, name=\"masked_model\")\n",
    "mask_language_model.compile(\"adam\", keras.losses.SparseCategoricalCrossentropy(reduction=tf.keras.losses.Reduction.NONE))"
   ]
  },
  {
   "cell_type": "code",
   "execution_count": 102,
   "id": "eligible-binding",
   "metadata": {},
   "outputs": [
    {
     "name": "stdout",
     "output_type": "stream",
     "text": [
      "Model: \"masked_model\"\n",
      "__________________________________________________________________________________________________\n",
      " Layer (type)                   Output Shape         Param #     Connected to                     \n",
      "==================================================================================================\n",
      " input (InputLayer)             [(None, None, 1)]    0           []                               \n",
      "                                                                                                  \n",
      " order_input (InputLayer)       [(None, None, 1)]    0           []                               \n",
      "                                                                                                  \n",
      " embedding (Embedding)          (None, None, 1, 30)  90060       ['input[0][0]']                  \n",
      "                                                                                                  \n",
      " position_embedding (Embedding)  (None, None, 1, 30)  30000      ['order_input[0][0]']            \n",
      "                                                                                                  \n",
      " reshaping (Reshape)            (None, None, 30)     0           ['embedding[0][0]']              \n",
      "                                                                                                  \n",
      " reshaping_position_embedding (  (None, None, 30)    0           ['position_embedding[0][0]']     \n",
      " Reshape)                                                                                         \n",
      "                                                                                                  \n",
      " tf.__operators__.add_1 (TFOpLa  (None, None, 30)    0           ['reshaping[0][0]',              \n",
      " mbda)                                                            'reshaping_position_embedding[0]\n",
      "                                                                 [0]']                            \n",
      "                                                                                                  \n",
      " mask (InputLayer)              [(None, None)]       0           []                               \n",
      "                                                                                                  \n",
      " atention (Attention)           ((None, None, 30),   0           ['tf.__operators__.add_1[0][0]', \n",
      "                                 (None, None, None)               'tf.__operators__.add_1[0][0]', \n",
      "                                )                                 'mask[0][0]',                   \n",
      "                                                                  'mask[0][0]']                   \n",
      "                                                                                                  \n",
      " batch_normalization_1 (BatchNo  (None, None, 30)    120         ['atention[0][0]']               \n",
      " rmalization)                                                                                     \n",
      "                                                                                                  \n",
      " dense_3 (Dense)                (None, None, 30)     930         ['batch_normalization_1[0][0]']  \n",
      "                                                                                                  \n",
      " dropout_1 (Dropout)            (None, None, 30)     0           ['dense_3[0][0]']                \n",
      "                                                                                                  \n",
      " dense_4 (Dense)                (None, None, 30)     930         ['dropout_1[0][0]']              \n",
      "                                                                                                  \n",
      " dense_5 (Dense)                (None, None, 3002)   93062       ['dense_4[0][0]']                \n",
      "                                                                                                  \n",
      "==================================================================================================\n",
      "Total params: 215,102\n",
      "Trainable params: 185,042\n",
      "Non-trainable params: 30,060\n",
      "__________________________________________________________________________________________________\n"
     ]
    }
   ],
   "source": [
    "mask_language_model.summary()"
   ]
  },
  {
   "cell_type": "code",
   "execution_count": null,
   "id": "brown-proposal",
   "metadata": {},
   "outputs": [
    {
     "name": "stderr",
     "output_type": "stream",
     "text": [
      "/tmp/ipykernel_14359/3837055476.py:34: RuntimeWarning: divide by zero encountered in true_divide\n",
      "  counts_norm = 1 / counts\n"
     ]
    },
    {
     "name": "stdout",
     "output_type": "stream",
     "text": [
      "Epoch 1/500\n",
      "280/280 [==============================] - 14s 45ms/step - loss: 1.6149 - val_loss: 1.4173\n",
      "Epoch 2/500\n",
      "280/280 [==============================] - 13s 45ms/step - loss: 1.1367 - val_loss: 0.6665\n",
      "Epoch 3/500\n",
      "280/280 [==============================] - 13s 45ms/step - loss: 0.8978 - val_loss: 0.4420\n",
      "Epoch 4/500\n",
      "280/280 [==============================] - 13s 46ms/step - loss: 0.7789 - val_loss: 0.3231\n",
      "Epoch 5/500\n",
      "280/280 [==============================] - 13s 47ms/step - loss: 0.7025 - val_loss: 0.2490\n",
      "Epoch 6/500\n",
      "280/280 [==============================] - 13s 47ms/step - loss: 0.6558 - val_loss: 0.1934\n",
      "Epoch 7/500\n",
      "280/280 [==============================] - 14s 52ms/step - loss: 0.6167 - val_loss: 0.1517\n",
      "Epoch 8/500\n",
      "280/280 [==============================] - 15s 55ms/step - loss: 0.5881 - val_loss: 0.1245\n",
      "Epoch 9/500\n",
      "280/280 [==============================] - 15s 55ms/step - loss: 0.5680 - val_loss: 0.1050\n",
      "Epoch 10/500\n",
      "280/280 [==============================] - 15s 54ms/step - loss: 0.5526 - val_loss: 0.0894\n",
      "Epoch 11/500\n",
      "280/280 [==============================] - 15s 54ms/step - loss: 0.5392 - val_loss: 0.0765\n",
      "Epoch 12/500\n",
      "280/280 [==============================] - 15s 54ms/step - loss: 0.5286 - val_loss: 0.0633\n",
      "Epoch 13/500\n",
      " 11/280 [>.............................] - ETA: 11s - loss: 0.5514"
     ]
    }
   ],
   "source": [
    "\n",
    "history = mask_language_model.fit(\n",
    "    dataset.generate(df_train[\"comment_text\"]), epochs=500, steps_per_epoch=len(df_train[\"comment_text\"]) // dataset.batch_size - 1,\n",
    "    validation_data=dataset.generate(df_test[\"comment_text\"]), validation_steps=len(df_test[\"comment_text\"]) // dataset.batch_size - 1)"
   ]
  },
  {
   "cell_type": "code",
   "execution_count": null,
   "id": "8c140dab-4c69-404d-badf-6aa2edd90ad4",
   "metadata": {},
   "outputs": [],
   "source": [
    "plt.plot(history.history[\"loss\"], label=\"loss\")\n",
    "plt.plot(history.history[\"val_loss\"], label=\"val_loss\")\n",
    "plt.legend()"
   ]
  },
  {
   "cell_type": "code",
   "execution_count": null,
   "id": "ce21734d-ecde-4633-85c2-0e3112f9e86b",
   "metadata": {},
   "outputs": [],
   "source": [
    "mask_language_model.save(\"mlm_500_epochs\")"
   ]
  },
  {
   "cell_type": "code",
   "execution_count": null,
   "id": "2e0f20b3-fbd3-43bc-86b0-526cbb96f597",
   "metadata": {},
   "outputs": [],
   "source": [
    "import pickle\n",
    "with open(\"history_500_epochs.pkl\", \"wb\") as f:\n",
    "    pickle.dump(history, f)"
   ]
  },
  {
   "cell_type": "markdown",
   "id": "painful-belfast",
   "metadata": {},
   "source": [
    "# Visualization"
   ]
  },
  {
   "cell_type": "code",
   "execution_count": 36,
   "id": "351dce93-a47a-4ad7-a3f2-952c749fd125",
   "metadata": {},
   "outputs": [],
   "source": [
    "order_input = mask_language_model.get_layer(\"order_input\").output\n",
    "attention_scores = mask_language_model.get_layer(\"atention\").output[1]"
   ]
  },
  {
   "cell_type": "code",
   "execution_count": 37,
   "id": "acknowledged-amsterdam",
   "metadata": {},
   "outputs": [],
   "source": [
    "model_attention_scores = keras.models.Model([input_, mask_input, order_input], attention_scores, name=\"attention_scores_model\")"
   ]
  },
  {
   "cell_type": "code",
   "execution_count": 38,
   "id": "operating-draft",
   "metadata": {},
   "outputs": [],
   "source": [
    "texts = df_train[\"comment_text\"].values[25]\n",
    "texts = \"you are not the most beautiful person on earth\"\n",
    "texts = \"I didn't go to the market yesterday\"\n",
    "texts = df_test[\"comment_text\"].values[10]\n",
    "# texts = \"John passed the test although he had not studied.\"\n",
    "\n",
    "inputs = np.asarray(dataset.tokenizer.texts_to_sequences([texts]))\n",
    "\n",
    "index_word_to_mask = 7\n",
    "\n",
    "inputs_masked = inputs.copy()\n",
    "if index_word_to_mask >= 0:\n",
    "    inputs_masked[0][index_word_to_mask] = NUMBER_WORDS + 1\n",
    "\n",
    "mask = ~np.isin(inputs_masked, [0, dataset.mask_number])\n",
    "order_input_ = np.asarray([np.arange(len(inputs_masked[0]))])\n"
   ]
  },
  {
   "cell_type": "code",
   "execution_count": 39,
   "id": "turkish-liver",
   "metadata": {},
   "outputs": [],
   "source": [
    "attention_scores = np.squeeze(model_attention_scores.predict({\"input\": inputs, \"mask\": mask, \"order_input\": order_input_}))\n",
    "tokens_in_s = [dataset.tokenizer.index_word.get(s_i, \"<PAD>\") if (s_i != NUMBER_WORDS + 1) else \"<MASK>\" for s_i in inputs[0]]\n",
    "tokens_with_mask = [dataset.tokenizer.index_word.get(s_i, \"<PAD>\") if (s_i != NUMBER_WORDS + 1) else \"<MASK>\" for s_i in inputs_masked[0]]"
   ]
  },
  {
   "cell_type": "code",
   "execution_count": 40,
   "id": "optical-brooklyn",
   "metadata": {},
   "outputs": [
    {
     "name": "stdout",
     "output_type": "stream",
     "text": [
      "ORIGINAL TEXT:  Is this a joke wasting tax payers money like this. Just stupid and a waste of time. Grow up juneau\n",
      "MASKED:  ['is', 'this', 'a', 'joke', 'wasting', 'tax', 'payers', '<MASK>', 'like', 'this', 'just', 'stupid', 'and', 'a', 'waste', 'of', 'time', 'grow', 'up']\n",
      "PREDICTION:  ['is', 'this', 'a', 'joke', 'wasting', 'tax', 'payers', 'to', 'like', 'this', 'just', 'stupid', 'and', 'a', 'waste', 'of', 'time', 'grow', 'up']\n"
     ]
    }
   ],
   "source": [
    "prediction_probs = mask_language_model.predict({\"input\": inputs, \"mask\": mask, \"order_input\": order_input_})[0, :, :]\n",
    "predictions = np.argmax(prediction_probs, axis=-1)\n",
    "\n",
    "predictions = [dataset.tokenizer.index_word.get(s_i, \"<PAD>\") if (s_i != NUMBER_WORDS + 1) else \"<MASK>\" for s_i in predictions]\n",
    "print(\"ORIGINAL TEXT: \", texts)\n",
    "print(\"MASKED: \", tokens_with_mask)\n",
    "print(\"PREDICTION: \", predictions)"
   ]
  },
  {
   "cell_type": "code",
   "execution_count": 45,
   "id": "0f96374e-0473-4780-b111-ce64cca05f51",
   "metadata": {},
   "outputs": [
    {
     "data": {
      "text/plain": [
       "['to', 'that', 'a', 'in', 'and', 'for', 'the', 'of', 'on', 'or']"
      ]
     },
     "execution_count": 45,
     "metadata": {},
     "output_type": "execute_result"
    }
   ],
   "source": [
    "n_possiblities = list(zip(*sorted(enumerate(prediction_probs[index_word_to_mask].tolist()), key=lambda x: x[1], reverse=True)[:10]))[0]\n",
    "[dataset.tokenizer.index_word.get(s_i, \"<PAD>\") if (s_i != NUMBER_WORDS + 1) else \"<MASK>\" for s_i in n_possiblities]"
   ]
  },
  {
   "cell_type": "code",
   "execution_count": 28,
   "id": "becd5049-a80f-47c8-b82b-c0d3dbd964b7",
   "metadata": {},
   "outputs": [
    {
     "data": {
      "text/plain": [
       "(0.0007690231, 0.04287011)"
      ]
     },
     "execution_count": 28,
     "metadata": {},
     "output_type": "execute_result"
    }
   ],
   "source": [
    "prediction_probs[index_word_to_mask, inputs[0][index_word_to_mask]], max(prediction_probs[index_word_to_mask])"
   ]
  },
  {
   "cell_type": "code",
   "execution_count": 29,
   "id": "miniature-musician",
   "metadata": {},
   "outputs": [
    {
     "data": {
      "image/png": "[encoded data removed]",
      "text/plain": [
       "<Figure size 1440x720 with 1 Axes>"
      ]
     },
     "metadata": {
      "needs_background": "light"
     },
     "output_type": "display_data"
    }
   ],
   "source": [
    "fig, ax = plt.subplots(figsize=(20, 10))\n",
    "ax.imshow(attention_scores)\n",
    "ax.set_xticks(range(len(tokens_in_s)))\n",
    "ax.set_yticks(range(len(tokens_in_s)))\n",
    "ax.set_xticklabels(tokens_with_mask)\n",
    "ax.set_yticklabels(tokens_in_s);\n"
   ]
  },
  {
   "cell_type": "code",
   "execution_count": null,
   "id": "industrial-attempt",
   "metadata": {},
   "outputs": [],
   "source": []
  },
  {
   "cell_type": "code",
   "execution_count": null,
   "id": "e094b428-f4b4-4699-ab20-9c90530f6d4e",
   "metadata": {},
   "outputs": [],
   "source": []
  }
 ],
 "metadata": {
  "kernelspec": {
   "display_name": "kernel_icai",
   "language": "python",
   "name": "kernel_icai"
  },
  "language_info": {
   "codemirror_mode": {
    "name": "ipython",
    "version": 3
   },
   "file_extension": ".py",
   "mimetype": "text/x-python",
   "name": "python",
   "nbconvert_exporter": "python",
   "pygments_lexer": "ipython3",
   "version": "3.8.0"
  }
 },
 "nbformat": 4,
 "nbformat_minor": 5
}
